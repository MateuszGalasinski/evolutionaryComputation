{
 "cells": [
  {
   "cell_type": "markdown",
   "metadata": {},
   "source": [
    "## install additional packages"
   ]
  },
  {
   "cell_type": "code",
   "execution_count": 10,
   "metadata": {},
   "outputs": [],
   "source": [
    "!pip install deap k3d mpld3 > /dev/null\n",
    "%matplotlib ipympl\n",
    "import mpld3\n",
    "mpld3.enable_notebook()"
   ]
  },
  {
   "cell_type": "markdown",
   "metadata": {},
   "source": [
    "# Configuration"
   ]
  },
  {
   "cell_type": "code",
   "execution_count": 2,
   "metadata": {},
   "outputs": [],
   "source": [
    "from pathlib import Path\n",
    "import json\n",
    "\n",
    "class Config(object):\n",
    "    def __init__(self, algorithmType, w, c1, c2, iterations, target_error, n_particles, arguments_dimensions, d_min, d_max, fitness):\n",
    "        self.algorithmType = algorithmType\n",
    "        self.w = w\n",
    "        self.c1 = c1\n",
    "        self.c2 = c2\n",
    "        self.iterations = iterations\n",
    "        self.target_error = target_error\n",
    "        self.n_particles = n_particles\n",
    "        self.arguments_dimensions = arguments_dimensions\n",
    "        self.d_min = d_min\n",
    "        self.d_max = d_max\n",
    "        self.d_max = d_max\n",
    "        self.fitness = fitness\n",
    "\n",
    "\n",
    "def as_config(dct):\n",
    "    return Config(\n",
    "        dct['algorithmType'],\n",
    "        dct['w'],\n",
    "        dct['c1'],\n",
    "        dct['c2'],\n",
    "        dct['iterations'], \n",
    "        dct['target_error'], \n",
    "        dct['n_particles'],\n",
    "        dct['arguments_dimensions'],\n",
    "        dct['d_min'], \n",
    "        dct['d_max'],\n",
    "        dct['fitness']\n",
    "        )"
   ]
  },
  {
   "cell_type": "markdown",
   "metadata": {},
   "source": [
    "# Genetic algorithm using deap"
   ]
  },
  {
   "cell_type": "code",
   "execution_count": 3,
   "metadata": {},
   "outputs": [],
   "source": [
    "import random\n",
    "import numpy\n",
    "import inspect\n",
    "from deap import algorithms, base, creator, tools\n",
    "\n",
    "# translates into tuple\n",
    "def gaFitness(individual):\n",
    "    return fitness(individual),\n",
    "\n",
    "def cxTwoPointCopy(ind1, ind2):\n",
    "    size = len(ind1)\n",
    "    cxpoint1 = random.randint(1, size)\n",
    "    cxpoint2 = random.randint(1, size - 1)\n",
    "    if cxpoint2 >= cxpoint1:\n",
    "        cxpoint2 += 1\n",
    "    else: # Swap the two cx points\n",
    "        cxpoint1, cxpoint2 = cxpoint2, cxpoint1\n",
    "\n",
    "    ind1[cxpoint1:cxpoint2], ind2[cxpoint1:cxpoint2] \\\n",
    "        = ind2[cxpoint1:cxpoint2].copy(), ind1[cxpoint1:cxpoint2].copy()\n",
    "        \n",
    "    return ind1, ind2\n",
    "\n",
    "def genetic():\n",
    "    creator.create(\"FitnessMin\", base.Fitness, weights=(-1.0,))\n",
    "    creator.create(\"Individual\", numpy.ndarray, fitness=creator.FitnessMin)\n",
    "\n",
    "    toolbox = base.Toolbox()\n",
    "    toolbox.register(\"attr_bool\", lambda: random.random()*cfg.d_max)\n",
    "    toolbox.register(\"individual\", tools.initRepeat, creator.Individual, toolbox.attr_bool, n=cfg.arguments_dimensions)\n",
    "    toolbox.register(\"population\", tools.initRepeat, list, toolbox.individual)\n",
    "    toolbox.register(\"evaluate\", gaFitness)\n",
    "    toolbox.register(\"mate\", cxTwoPointCopy)\n",
    "    toolbox.register(\"mutate\", tools.mutFlipBit, indpb=0.05)\n",
    "    toolbox.register(\"select\", tools.selTournament, tournsize=3)\n",
    "    pop = toolbox.population(n=cfg.n_particles)\n",
    "    hof = tools.HallOfFame(1, similar=numpy.array_equal)\n",
    "    \n",
    "    stats = tools.Statistics(lambda ind: ind.fitness.values)\n",
    "    stats.register(\"avg\", numpy.mean)\n",
    "    stats.register(\"std\", numpy.std)\n",
    "    stats.register(\"min\", numpy.min)\n",
    "    stats.register(\"max\", numpy.max)\n",
    "    \n",
    "    algorithms.eaSimple(pop, toolbox, cxpb=0.5, mutpb=0.2, ngen=cfg.iterations, stats=stats, halloffame=hof)\n",
    "\n",
    "    return pop, stats, hof"
   ]
  },
  {
   "cell_type": "markdown",
   "metadata": {},
   "source": [
    "# particle swarm algorithm classes"
   ]
  },
  {
   "cell_type": "code",
   "execution_count": 4,
   "metadata": {},
   "outputs": [],
   "source": [
    "from random import getrandbits\n",
    "import numpy as np\n",
    "\n",
    "class Particle():\n",
    "    def __init__(self):\n",
    "        self.position = (cfg.d_max - cfg.d_min) * np.random.random_sample(cfg.arguments_dimensions)+ cfg.d_min\n",
    "        self.pbest_position = self.position\n",
    "        self.pbest_value = float('inf')\n",
    "        self.velocity = np.array([0,0])\n",
    "    \n",
    "    def move(self):\n",
    "        self.position = self.position + self.velocity\n",
    "\n",
    "    def __str__(self):\n",
    "        print(f'My position is {self.position}, my pbest is {self.pbest_position}')\n",
    "\n",
    "class Space():\n",
    "    def __init__(self, target):\n",
    "        self.target = target\n",
    "        self.particles = []\n",
    "        self.gbest_value = float('inf')\n",
    "        self.gbest_position = np.array([x * np.random.random_sample()*cfg.d_max for x in range(cfg.arguments_dimensions)])\n",
    "\n",
    "    def print_particles(self):\n",
    "        for particle in self.particles:\n",
    "            particle.__str__()\n",
    "\n",
    "    def set_pbest(self):\n",
    "        for particle in self.particles:\n",
    "            fitness_cadidate:float = fitness(particle.position)\n",
    "            if(particle.pbest_value > fitness_cadidate):\n",
    "                particle.pbest_value = fitness_cadidate\n",
    "                particle.pbest_position = particle.position\n",
    "            \n",
    "\n",
    "    def set_gbest(self):\n",
    "        for particle in self.particles:\n",
    "            best_fitness_cadidate = fitness(particle.position)\n",
    "            if(self.gbest_value > best_fitness_cadidate):\n",
    "                self.gbest_value = best_fitness_cadidate\n",
    "                self.gbest_position = particle.position\n",
    "\n",
    "    def move_particles(self):\n",
    "        for particle in self.particles:\n",
    "            new_velocity = (cfg.w*particle.velocity) + (cfg.c1*np.random.random_sample()) * (particle.pbest_position - particle.position) + \\\n",
    "                            (np.random.random_sample()*cfg.c2) * (self.gbest_position - particle.position)\n",
    "            particle.velocity = new_velocity\n",
    "            particle.move()\n"
   ]
  },
  {
   "cell_type": "markdown",
   "metadata": {},
   "source": [
    "# Plots"
   ]
  },
  {
   "cell_type": "code",
   "execution_count": 5,
   "metadata": {},
   "outputs": [],
   "source": [
    "from numpy import exp,array,random,float32\n",
    "import k3d\n",
    "    \n",
    "def plot_particles(particles):\n",
    "    if len(particles) == 0:\n",
    "        print(\"No particles to visualize !\")\n",
    "        return\n",
    "    if len(particles[0].position) != 2:\n",
    "        print(\"I can only visualize three dimensional function !\")\n",
    "        return\n",
    "    x = list(map(lambda p: (p.position[0], p.position[1], fitness(p.position)), particles))\n",
    "    plot = k3d.plot(name='points')\n",
    "    plt_points = k3d.points(positions=x, point_size=0.2)\n",
    "    plot += plt_points\n",
    "    plt_points.shader='3d'\n",
    "    plot.display()\n",
    "    \n",
    "# def plot_fitness(particles):\n",
    "#     from matplotlib.tri import Triangulation\n",
    "#     import numpy as np\n",
    "\n",
    "#     x = list(map(lambda p: p.position[0], particles))\n",
    "#     y = list(map(lambda p: p.position[1], particles))\n",
    "#     z = list(map(lambda p: fitness(p.position), particles)) # evaluation of the function on the grid\n",
    "#     indices = Triangulation(x,y).triangles.astype(np.float64)\n",
    "\n",
    "#     plot = k3d.plot()\n",
    "#     plt_mesh = k3d.mesh(np.vstack([x,y,z]).T, indices,\n",
    "#                    color_map = k3d.colormaps.basic_color_maps.Jet,\n",
    "#                    attribute=z,\n",
    "#                    color_range = [-1.1,2.01])\n",
    "#     plot += plt_mesh\n",
    "#     plot.display()\n"
   ]
  },
  {
   "cell_type": "markdown",
   "metadata": {},
   "source": [
    "# App"
   ]
  },
  {
   "cell_type": "code",
   "execution_count": 6,
   "metadata": {},
   "outputs": [],
   "source": [
    "import numpy as np\n",
    "np.set_printoptions(precision=2, floatmode='fixed', sign=' ', )\n",
    "class App():\n",
    "    def run(self):\n",
    "        if(cfg.algorithmType == \"pso\"):\n",
    "            search_space = Space(1)\n",
    "            particles_vector = [Particle() for _ in range(cfg.n_particles)]\n",
    "            search_space.particles = particles_vector\n",
    "            plot_particles(search_space.particles)\n",
    "            iteration = 0\n",
    "            while iteration < cfg.iterations:\n",
    "                search_space.set_pbest()\n",
    "                search_space.set_gbest()\n",
    "\n",
    "                if abs(search_space.gbest_value - search_space.target) <= cfg.target_error:\n",
    "                    break\n",
    "\n",
    "                search_space.move_particles()\n",
    "                iteration += 1\n",
    "            print(\"The best solution is: \", search_space.gbest_position, \" in n_iterations: \", iteration)\n",
    "            plot_particles(search_space.particles)\n",
    "            # search_space.print_particles()\n",
    "        elif(cfg.algorithmType == \"ga\"):\n",
    "            genetic()\n",
    "\n",
    "        else:\n",
    "            print(f\"Unknown algorithm type: {cfg.algorithmType}\")"
   ]
  },
  {
   "cell_type": "code",
   "execution_count": 7,
   "metadata": {},
   "outputs": [],
   "source": [
    "json_config =\"\"\"\n",
    "{\n",
    "    \"algorithmType\": \"pso\",\n",
    "    \"fitness\": \"sphere\",\n",
    "    \"w\": 0.55,\n",
    "    \"c1\": 0.2,\n",
    "    \"c2\": 0.9,\n",
    "    \"target_error\": 1e-8,\n",
    "    \"iterations\": 200,\n",
    "    \"n_particles\": 400,\n",
    "    \"arguments_dimensions\": 2,\n",
    "    \"d_min\": 200,\n",
    "    \"d_max\": 200\n",
    "}\"\"\"\n",
    "cfg = json.loads(json_config, object_hook = as_config)"
   ]
  },
  {
   "cell_type": "markdown",
   "metadata": {},
   "source": [
    "# Fitness functions"
   ]
  },
  {
   "cell_type": "code",
   "execution_count": 8,
   "metadata": {},
   "outputs": [],
   "source": [
    "from numpy import sum, asarray_chkfinite, arange, prod, sqrt, cos, sin\n",
    "from functools import reduce\n",
    "def fitness(position, fr=4000):\n",
    "    if cfg.fitness == \"sincos\":\n",
    "        return sin(position[0]) + cos(position[1])\n",
    "    elif cfg.fitness == \"sphere\":\n",
    "        return reduce(lambda p,n: p + n**2, position)\n",
    "    elif cfg.fitness == \"rosen\":\n",
    "        return sum(100.0*(position[1:]-position[:-1]**2.0)**2.0 + (1-position[:-1])**2.0)\n",
    "    elif cfg.fitness == \"griewank\":\n",
    "        n = len(position)\n",
    "        j = arange( 1., n+1 )\n",
    "        s = sum( position**2 )\n",
    "        p = prod( cos( position / sqrt(j) ))\n",
    "        return s/fr - p + 1\n",
    "    elif cfg.fitness == \"3\":\n",
    "        s = 0\n",
    "        for x in range(1, len(position)):\n",
    "            s = s + (position[x]-x)**2\n",
    "        return s"
   ]
  },
  {
   "cell_type": "code",
   "execution_count": 9,
   "metadata": {},
   "outputs": [
    {
     "data": {
      "application/vnd.jupyter.widget-view+json": {
       "model_id": "c6c3a4775cf142fbbdd6a4ee1022a027",
       "version_major": 2,
       "version_minor": 0
      },
      "text/plain": [
       "Output()"
      ]
     },
     "metadata": {},
     "output_type": "display_data"
    },
    {
     "name": "stdout",
     "output_type": "stream",
     "text": [
      "The best solution is:  [ 200.00  200.00]  in n_iterations:  200\n"
     ]
    },
    {
     "data": {
      "application/vnd.jupyter.widget-view+json": {
       "model_id": "47576721db924adc970b43f5904eca76",
       "version_major": 2,
       "version_minor": 0
      },
      "text/plain": [
       "Output()"
      ]
     },
     "metadata": {},
     "output_type": "display_data"
    }
   ],
   "source": [
    "App().run()"
   ]
  },
  {
   "cell_type": "code",
   "execution_count": null,
   "metadata": {},
   "outputs": [],
   "source": []
  },
  {
   "cell_type": "code",
   "execution_count": null,
   "metadata": {},
   "outputs": [],
   "source": []
  },
  {
   "cell_type": "code",
   "execution_count": null,
   "metadata": {},
   "outputs": [],
   "source": []
  }
 ],
 "metadata": {
  "kernelspec": {
   "display_name": "Python 3",
   "language": "python",
   "name": "python3"
  },
  "language_info": {
   "codemirror_mode": {
    "name": "ipython",
    "version": 3
   },
   "file_extension": ".py",
   "mimetype": "text/x-python",
   "name": "python",
   "nbconvert_exporter": "python",
   "pygments_lexer": "ipython3",
   "version": "3.7.6"
  }
 },
 "nbformat": 4,
 "nbformat_minor": 4
}
