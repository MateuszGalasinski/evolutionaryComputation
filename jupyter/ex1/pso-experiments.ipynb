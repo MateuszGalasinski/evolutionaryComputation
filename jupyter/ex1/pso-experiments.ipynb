{
 "cells": [
  {
   "cell_type": "markdown",
   "metadata": {},
   "source": [
    "# Sprawozdanie z **Obliczeń ewolucyjnych**\n",
    "## Zadanie 1 - Algorytm *Particle Swarm Optimization*"
   ]
  },
  {
   "cell_type": "markdown",
   "metadata": {},
   "source": [
    "# Konfiguracja\n",
    "Przy pomocy klasy Config można wybrać zastosowany algorytm oraz określić jego parametry:    \n",
    "- w - współczynnik zmęczenia.   \n",
    "- c1 - współczynnik przyspieszenia w kierunku własnego minimum cząstki\n",
    "- c2 - współczynnik przyspieszenia w kierunku globalnego minimum cząstek\n",
    "- iterations - ilość iteracji algorytmu  \n",
    "- target_error - najniższy stopień błędu - po osiągnięciu tego wyniku algorytm zatrzymuje się  \n",
    "- n_particles - ilość cząstek  \n",
    "- arguments_dimensions - liczba wymiarów, w których rozkładane są cząsteczki   \n",
    "- d_min - minimalna wartość współrzędnej dla każdego z wymiarów   \n",
    "- d_max - maksymalna wartość współrzędnej dla każdego z wymiarów   \n",
    "- fitness - wybór funkcji dostosowującej położenie cząstek         \n",
    " Dla celów badawczych, w dalszej części zaprezentowane są różne zestawy wartości konfiguracyjnych."
   ]
  },
  {
   "cell_type": "code",
   "execution_count": 17,
   "metadata": {},
   "outputs": [],
   "source": [
    "!pip install deap k3d > /dev/null\n",
    "%matplotlib inline\n",
    "from pathlib import Path\n",
    "import json\n",
    "\n",
    "class Config(object):\n",
    "    def __init__(self, algorithmType, w, c1, c2, custom_c2, iterations, target_error, n_particles, arguments_dimensions, d_min, d_max, fitness):\n",
    "        self.algorithmType = algorithmType\n",
    "        self.w = w\n",
    "        self.c1 = c1\n",
    "        self.c2 = c2\n",
    "        self.custom_c2 = custom_c2\n",
    "        self.iterations = iterations\n",
    "        self.target_error = target_error\n",
    "        self.n_particles = n_particles\n",
    "        self.arguments_dimensions = arguments_dimensions\n",
    "        self.d_min = d_min\n",
    "        self.d_max = d_max\n",
    "        self.d_max = d_max\n",
    "        self.fitness = fitness\n",
    "\n",
    "def as_config(dct):\n",
    "    return Config(\n",
    "        dct['algorithmType'],\n",
    "        dct['w'],\n",
    "        dct['c1'],\n",
    "        dct['c2'],\n",
    "        dct['custom_c2'] if dct.get('custom_c2') else False,\n",
    "        dct['iterations'], \n",
    "        dct['target_error'], \n",
    "        dct['n_particles'],\n",
    "        dct['arguments_dimensions'],\n",
    "        dct['d_min'], \n",
    "        dct['d_max'],\n",
    "        dct['fitness']\n",
    "        )"
   ]
  },
  {
   "cell_type": "markdown",
   "metadata": {},
   "source": [
    "# Algorytm genetyczny z użyciem \"deap\"\n",
    "W celu porównania samodzielnie zaimplementowanego algorytmu PSO do algorytmów genetycznych, poniżej zaimplementowano funkcję zwracające wyniki działania tego algorytmu z wykorzystaniem biblioteki \"deap\".  "
   ]
  },
  {
   "cell_type": "code",
   "execution_count": 18,
   "metadata": {},
   "outputs": [],
   "source": [
    "import random\n",
    "import numpy\n",
    "import inspect\n",
    "from deap import algorithms, base, creator, tools\n",
    "\n",
    "# translates into tuple\n",
    "def gaFitness(individual):\n",
    "    return fitness(individual),\n",
    "\n",
    "def cxTwoPointCopy(ind1, ind2):\n",
    "    size = len(ind1)\n",
    "    cxpoint1 = random.randint(1, size)\n",
    "    cxpoint2 = random.randint(1, size - 1)\n",
    "    if cxpoint2 >= cxpoint1:\n",
    "        cxpoint2 += 1\n",
    "    else: # Swap the two cx points\n",
    "        cxpoint1, cxpoint2 = cxpoint2, cxpoint1\n",
    "\n",
    "    ind1[cxpoint1:cxpoint2], ind2[cxpoint1:cxpoint2] \\\n",
    "        = ind2[cxpoint1:cxpoint2].copy(), ind1[cxpoint1:cxpoint2].copy()\n",
    "        \n",
    "    return ind1, ind2\n",
    "\n",
    "def genetic():\n",
    "    creator.create(\"FitnessMin\", base.Fitness, weights=(-1.0,))\n",
    "    creator.create(\"Individual\", numpy.ndarray, fitness=creator.FitnessMin)\n",
    "\n",
    "    toolbox = base.Toolbox()\n",
    "    toolbox.register(\"attr_bool\", lambda: (cfg.d_max-cfg.d_min)*random.random() + cfg.d_min)\n",
    "    toolbox.register(\"individual\", tools.initRepeat, creator.Individual, toolbox.attr_bool, n=cfg.arguments_dimensions)\n",
    "    toolbox.register(\"population\", tools.initRepeat, list, toolbox.individual)\n",
    "    toolbox.register(\"evaluate\", gaFitness)\n",
    "    toolbox.register(\"mate\", cxTwoPointCopy)\n",
    "    toolbox.register(\"mutate\", tools.mutFlipBit, indpb=0.05)\n",
    "    toolbox.register(\"select\", tools.selTournament, tournsize=3)\n",
    "    pop = toolbox.population(n=cfg.n_particles)\n",
    "    hof = tools.HallOfFame(1, similar=numpy.array_equal)\n",
    "    \n",
    "    stats = tools.Statistics(lambda ind: ind.fitness.values)\n",
    "    stats.register(\"avg\", numpy.mean)\n",
    "    stats.register(\"std\", numpy.std)\n",
    "    stats.register(\"min\", numpy.min)\n",
    "    stats.register(\"max\", numpy.max)\n",
    "    \n",
    "    algorithms.eaSimple(pop, toolbox, cxpb=0.5, mutpb=0.2, ngen=cfg.iterations, stats=stats, halloffame=hof)\n",
    "\n",
    "    return pop, stats, hof"
   ]
  },
  {
   "cell_type": "markdown",
   "metadata": {},
   "source": [
    "# Klasy algorytmu PSO\n",
    "Poniżej przedstawione są klasy repezentujące \"rój\"\n",
    "### Particle\n",
    "Klasa reprezentacja jedną cząsteczkę w przestrzeni poszukiwań:  \n",
    "- position - pozycja w przestrzeni zdefiniowanej w pliku konfiguracyjnym. \n",
    "- pbest_position - najlepsza pozycja cząsteczki\n",
    "- pbest_value - najlepsza osiągnięta przez tę czastęczkę wartość\n",
    "- velocity - wektor, który przechowuje informacje nt. tzw prędkości cząsteczki.  \n",
    "### Space\n",
    "Klasa reprezentująca przestrzeń poszukiwań, w której poruszają się cząsteczki\n",
    "- particles[] - tablica cząsteczek\n",
    "- gbest_position - globalnie najlepsza pozycja cząsteczki - inicjowana losowo \n",
    "- gbest_value - najlepsza wartość funkcji przystosowania dowolnej z cząsteczek"
   ]
  },
  {
   "cell_type": "code",
   "execution_count": 19,
   "metadata": {},
   "outputs": [],
   "source": [
    "import random\n",
    "import numpy as np\n",
    "\n",
    "class Particle():\n",
    "    def __init__(self):\n",
    "        self.position = (cfg.d_max - cfg.d_min) * np.random.random(cfg.arguments_dimensions) + cfg.d_min\n",
    "        self.pbest_position = self.position\n",
    "        self.pbest_value = float('inf')\n",
    "        self.velocity = np.zeros(cfg.arguments_dimensions)\n",
    "    \n",
    "    def move(self):\n",
    "        self.position = self.position + self.velocity\n",
    "        for i in range(len(self.position)):\n",
    "            if self.position[i] > cfg.d_max:\n",
    "                self.position[i] = cfg.d_max\n",
    "            if self.position[i] < cfg.d_min:\n",
    "                self.position[i] = cfg.d_min\n",
    "\n",
    "    def __str__(self):\n",
    "        print(f'My position is {self.position}, my pbest is {self.pbest_position}')\n",
    "\n",
    "class Space():\n",
    "    def __init__(self):\n",
    "        self.particles = []\n",
    "        self.gbest_value = float('inf')\n",
    "        self.gbest_position = np.array([x * np.random.random_sample()*cfg.d_max for x in range(cfg.arguments_dimensions)])\n",
    "\n",
    "    def print_particles(self):\n",
    "        for particle in self.particles:\n",
    "            particle.__str__()\n",
    "\n",
    "    def set_pbest(self):\n",
    "        for particle in self.particles:\n",
    "            fitness_cadidate:float = fitness(particle.position)\n",
    "            if(particle.pbest_value > fitness_cadidate):\n",
    "                particle.pbest_value = fitness_cadidate\n",
    "                particle.pbest_position = particle.position\n",
    "\n",
    "    def set_gbest(self):\n",
    "        for particle in self.particles:\n",
    "            best_fitness_cadidate = fitness(particle.position)\n",
    "            if(self.gbest_value > best_fitness_cadidate):\n",
    "                self.gbest_value = best_fitness_cadidate\n",
    "                self.gbest_position = particle.position\n",
    "\n",
    "    def move_particles(self):\n",
    "        for particle in self.particles:\n",
    "            new_velocity = (cfg.w*particle.velocity) + (cfg.c1*np.random.random_sample()) * (particle.pbest_position - particle.position) + \\\n",
    "                            (np.random.random_sample()*cfg.c2) * (self.gbest_position - particle.position)\n",
    "            particle.velocity = new_velocity\n",
    "            particle.move()\n"
   ]
  },
  {
   "cell_type": "markdown",
   "metadata": {},
   "source": [
    "# Wykresy\n",
    "Wykorzystano bibliotekę k3d w celu przedstawienia trójwymiarowych wykresów \"roju\", tam gdzie było to możliwe."
   ]
  },
  {
   "cell_type": "code",
   "execution_count": 20,
   "metadata": {},
   "outputs": [],
   "source": [
    "from numpy import exp,array,float32\n",
    "import k3d\n",
    "from uuid import uuid4\n",
    "\n",
    "def plot_particles(particles):\n",
    "    if len(particles) == 0:\n",
    "        print(\"No particles to visualize !\")\n",
    "        return\n",
    "    if len(particles[0].position) != 2:\n",
    "        print(\"I can only visualize three dimensional function !\")\n",
    "        return\n",
    "    x = list(map(lambda p: (p.position[0], p.position[1], fitness(p.position)), particles))\n",
    "    plot = k3d.plot(name=str(uuid4()))\n",
    "    plt_points = k3d.points(positions=x, point_size=0.2)\n",
    "    plot += plt_points\n",
    "    plt_points.shader='3d'\n",
    "    plot.display()"
   ]
  },
  {
   "cell_type": "markdown",
   "metadata": {},
   "source": [
    "# Funkcje przystosowania\n",
    "Poniższa sekcja przestawia funkcje dostosowania cząsteczek:  \n",
    "Sphere\n",
    "![title](pics/sphere.png)\n",
    "F2\n",
    "![title](pics/f2.png)\n",
    "Griewank\n",
    "![title](pics/griewank.png)   \n",
    "Rosenbrock\n",
    "![title](pics/rosen.png)   \n",
    "Zakharov\n",
    "![title](pics/zakharov.png)   "
   ]
  },
  {
   "cell_type": "code",
   "execution_count": 21,
   "metadata": {},
   "outputs": [],
   "source": [
    "from numpy import sum, asarray_chkfinite, arange, prod, sqrt, cos, sin\n",
    "from functools import reduce\n",
    "def fitness(position, fr=4000):\n",
    "    if cfg.fitness == \"sincos\":\n",
    "        return sin(position[0]) + cos(position[1])\n",
    "    if cfg.fitness == \"sincos2\":\n",
    "        return sin(position[0]) + cos(position[1]) + position[0] + position[1]\n",
    "    elif cfg.fitness == \"sphere\":\n",
    "        return reduce(lambda p,n: p + n**2, position)\n",
    "    elif cfg.fitness == \"rosen\":\n",
    "        return sum(100.0*(position[1:]-position[:-1]**2.0)**2.0 + (position[:-1]-1)**2.0)\n",
    "    elif cfg.fitness == \"griewank\":\n",
    "        n = len(position)\n",
    "        j = arange( 1., n+1 )\n",
    "        s = sum( position**2 )\n",
    "        p = prod( cos( position / sqrt(j) ))\n",
    "        return s/fr - p + 1\n",
    "    elif cfg.fitness == \"zakharov\":\n",
    "        x = np.asarray_chkfinite(position)\n",
    "        n = len(x)\n",
    "        j = np.arange( 1., n+1 )\n",
    "        s2 = sum( j * x ) / 2\n",
    "        return sum( x**2 ) + s2**2 + s2**4\n",
    "    elif cfg.fitness == \"f2\":\n",
    "        s = 0\n",
    "        for x in range(1, len(position)):\n",
    "            s = s + (position[x]-x)**2\n",
    "        return s\n",
    "    else:\n",
    "        print(\"Unknown fitenss function\")\n",
    "        raise"
   ]
  },
  {
   "cell_type": "markdown",
   "metadata": {},
   "source": [
    "# Pętla aplikacji\n",
    "Pętla programowa odpowiedzialna za wywoływanie logiki wybranego algorytmu PSO lub GA."
   ]
  },
  {
   "cell_type": "code",
   "execution_count": 22,
   "metadata": {},
   "outputs": [],
   "source": [
    "import numpy as np\n",
    "class App():\n",
    "    def run(self):\n",
    "        if(cfg.algorithmType == \"pso\"):\n",
    "            c2_begin = cfg.c2\n",
    "            search_space = Space()\n",
    "            particles_vector = [Particle() for _ in range(cfg.n_particles)]\n",
    "            search_space.particles = particles_vector\n",
    "            plot_particles(search_space.particles)            \n",
    "#             search_space.print_particles()\n",
    "            iteration = 0\n",
    "            while iteration < cfg.iterations:\n",
    "                if cfg.custom_c2 == True:\n",
    "                    cfg.c2 = c2_begin * ((cfg.iterations - iteration)/cfg.iterations)\n",
    "                last_gbest = search_space.gbest_value\n",
    "                search_space.set_pbest()\n",
    "                search_space.set_gbest()\n",
    "                search_space.move_particles()\n",
    "                iteration += 1\n",
    "                if abs(last_gbest - search_space.gbest_value) < cfg.target_error:\n",
    "                    break\n",
    "            print(f\"The best solution is in: {search_space.gbest_position}, fitness function value is: {fitness(search_space.gbest_position)}. Achieved in {iteration} iterations\")\n",
    "            plot_particles(search_space.particles)\n",
    "#             search_space.print_particles()\n",
    "        elif(cfg.algorithmType == \"ga\"):\n",
    "            genetic()\n",
    "\n",
    "        else:\n",
    "            print(f\"Unknown algorithm type: {cfg.algorithmType}\")"
   ]
  },
  {
   "cell_type": "markdown",
   "metadata": {},
   "source": [
    "### Ziarno losowości"
   ]
  },
  {
   "cell_type": "code",
   "execution_count": 23,
   "metadata": {},
   "outputs": [],
   "source": [
    "from numpy import random as nrand\n",
    "nrand.seed(0)\n",
    "from random import seed\n",
    "seed(0)"
   ]
  },
  {
   "cell_type": "markdown",
   "metadata": {},
   "source": [
    "# Badania\n",
    "Przeprowadzono eksperyment uruchomień algorytmu dla różnych zestawów parametrów konfiguracyjnych. Poniżej przedstawiono poszczególne przykłady wraz z wynikami w postaci wykresów 3D lub najlepszego osiągniętego wyniku."
   ]
  },
  {
   "cell_type": "markdown",
   "metadata": {},
   "source": [
    "### Funkcja sin(x) + cos(y)\n",
    "Przeprowadzono doświadczenie dla dwóch zestawów parametrów wagi inercyjnej, składników kognitywnego oraz socjalnego.\n",
    "\n",
    "<table style=\"width:150px;font-size:20px;text-align:left;\" >\n",
    "  <tr style=\"text-align:left;\">\n",
    "    <th>W</th>\n",
    "    <th>C1</th> \n",
    "    <th>C2</th>\n",
    "  </tr>\n",
    "  <tr>\n",
    "    <td>0.5</td>\n",
    "    <td>0.8</td>\n",
    "    <td>0.8</td>\n",
    "  </tr>\n",
    "  <tr>\n",
    "    <td>0.5</td>\n",
    "    <td>0.2</td>\n",
    "    <td>0.4</td>\n",
    "  </tr>\n",
    "</table>"
   ]
  },
  {
   "cell_type": "code",
   "execution_count": 24,
   "metadata": {
    "scrolled": false
   },
   "outputs": [
    {
     "data": {
      "application/vnd.jupyter.widget-view+json": {
       "model_id": "28561b7ce19d4b9e8ff1be666ed7773c",
       "version_major": 2,
       "version_minor": 0
      },
      "text/plain": [
       "Output()"
      ]
     },
     "metadata": {},
     "output_type": "display_data"
    },
    {
     "name": "stdout",
     "output_type": "stream",
     "text": [
      "The best solution is in: [4.71238898 3.14159266], fitness function value is: -2.0. Achieved in 400 iterations\n"
     ]
    },
    {
     "data": {
      "application/vnd.jupyter.widget-view+json": {
       "model_id": "3583f8a52beb435fb534ad6a4c6eec2f",
       "version_major": 2,
       "version_minor": 0
      },
      "text/plain": [
       "Output()"
      ]
     },
     "metadata": {},
     "output_type": "display_data"
    }
   ],
   "source": [
    "json_config =\"\"\"\n",
    "{\n",
    "    \"algorithmType\": \"pso\",\n",
    "    \"fitness\": \"sincos\",\n",
    "    \"w\": 0.5,\n",
    "    \"c1\": 0.8,\n",
    "    \"c2\": 0.9,\n",
    "    \"custom_c2\": true,\n",
    "    \"target_error\": 0,\n",
    "    \"iterations\": 400,\n",
    "    \"n_particles\": 1000,\n",
    "    \"arguments_dimensions\": 2,\n",
    "    \"d_min\": -10,\n",
    "    \"d_max\": 10\n",
    "}\"\"\"\n",
    "cfg = json.loads(json_config, object_hook = as_config)\n",
    "App().run()"
   ]
  },
  {
   "cell_type": "code",
   "execution_count": 9,
   "metadata": {},
   "outputs": [
    {
     "data": {
      "application/vnd.jupyter.widget-view+json": {
       "model_id": "5eb224ed10194fada9bcc668e3ea907c",
       "version_major": 2,
       "version_minor": 0
      },
      "text/plain": [
       "Output()"
      ]
     },
     "metadata": {},
     "output_type": "display_data"
    },
    {
     "name": "stdout",
     "output_type": "stream",
     "text": [
      "The best solution is in: [-1.57079631  3.14159264], fitness function value is: -2.0. Achieved in 400 iterations\n"
     ]
    },
    {
     "data": {
      "application/vnd.jupyter.widget-view+json": {
       "model_id": "e7051b88845c46c89ca46fa7d32ed28f",
       "version_major": 2,
       "version_minor": 0
      },
      "text/plain": [
       "Output()"
      ]
     },
     "metadata": {},
     "output_type": "display_data"
    }
   ],
   "source": [
    "json_config =\"\"\"\n",
    "{\n",
    "    \"algorithmType\": \"pso\",\n",
    "    \"fitness\": \"sincos\",\n",
    "    \"w\": 0.5,\n",
    "    \"c1\": 0.2,\n",
    "    \"c2\": 0.4,\n",
    "    \"custom_c2\": true,\n",
    "    \"target_error\": 0,\n",
    "    \"iterations\": 400,\n",
    "    \"n_particles\": 1000,\n",
    "    \"arguments_dimensions\": 2,\n",
    "    \"d_min\": -10,\n",
    "    \"d_max\": 10\n",
    "}\"\"\"ć\n",
    "cfg = json.loads(json_config, object_hook = as_config)\n",
    "App().run()"
   ]
  },
  {
   "cell_type": "code",
   "execution_count": 10,
   "metadata": {},
   "outputs": [
    {
     "data": {
      "application/vnd.jupyter.widget-view+json": {
       "model_id": "f7d98ad2b4944812907798c534d9b8ce",
       "version_major": 2,
       "version_minor": 0
      },
      "text/plain": [
       "Output()"
      ]
     },
     "metadata": {},
     "output_type": "display_data"
    },
    {
     "name": "stdout",
     "output_type": "stream",
     "text": [
      "The best solution is in: [-1.00000000e+01 -5.17245202e-06], fitness function value is: -9.999999999973246. Achieved in 5 iterations\n"
     ]
    },
    {
     "data": {
      "application/vnd.jupyter.widget-view+json": {
       "model_id": "db81b2d9402f47bcb187c4f7cfa3f43f",
       "version_major": 2,
       "version_minor": 0
      },
      "text/plain": [
       "Output()"
      ]
     },
     "metadata": {},
     "output_type": "display_data"
    }
   ],
   "source": [
    "json_config =\"\"\"\n",
    "{\n",
    "    \"algorithmType\": \"pso\",\n",
    "    \"fitness\": \"sphere\",\n",
    "    \"w\": 0.5,\n",
    "    \"c1\": 0.8,\n",
    "    \"c2\": 0.9,\n",
    "    \"target_error\": 0,\n",
    "    \"iterations\": 5,\n",
    "    \"n_particles\": 2000,\n",
    "    \"arguments_dimensions\": 2,\n",
    "    \"d_min\": -10,\n",
    "    \"d_max\": 10\n",
    "}\"\"\"\n",
    "cfg = json.loads(json_config, object_hook = as_config)\n",
    "App().run()"
   ]
  },
  {
   "cell_type": "markdown",
   "metadata": {},
   "source": [
    "### Funkcja *zakharov*\n",
    "Zaimplementowano możliwość zastosowania malejącej liniowo wraz z rosnącym numerem iteracji wartości składnika socjalnego. Użycie tej modyfikacji kontrolowane jest poprzez wartość klucza \"custom_c2\", odpowiednio na \"true\" lub \"false\".  \n",
    "Zastosowanie tego rozwiązania przetestowano na przykładzie funkcji \"Zakharov\" dla przedstawionych poniżej parametrów.  \n",
    "W przeprowadzonym eksperymencie, zastosowanie tej modyfikacji umożliwiło osiągnięcie poprawy wyniku z **12.62 do 10.82**\n",
    "<table style=\"width:1000px;font-size:20px;text-align:left;\" >\n",
    "  <tr style=\"text-align:left;\">\n",
    "    <th>Funkcja</th>\n",
    "    <th>mss</th>\n",
    "    <th>num_dim</th>\n",
    "    <th>range</th>\n",
    "    <th>W</th>\n",
    "    <th>C1</th> \n",
    "    <th>C2</th>\n",
    "  </tr>\n",
    "  <tr style=\"text-align:left;\">\n",
    "    <th>Zakharov</th>\n",
    "    <th>Nie</th>\n",
    "      <th>20</th>\n",
    "      <th>&lt;-10, 10&gt; </th>\n",
    "      <th>0.5</th>\n",
    "      <th>0.7</th>\n",
    "      <th>0.8</th>\n",
    "  </tr>\n",
    "  <tr style=\"text-align:left;\">\n",
    "    <th>Zakharov</th>\n",
    "    <th>Tak</th>\n",
    "      <th>20</th>\n",
    "      <th>&lt;-10, 10&gt; </th>\n",
    "      <th>0.5</th>\n",
    "      <th>0.7</th>\n",
    "      <th>0.8</th>\n",
    "  </tr>\n",
    "</table>\n",
    "<div>\n",
    "    <p>mss - Malejący składnik socjalny</p>\n",
    "    <p>num_dim - Liczba wymiarów przestrzeni poszukiwań</p>\n",
    "    <p>range - Przedział wartości pojedynczego wymiaru</p>\n",
    "</div>"
   ]
  },
  {
   "cell_type": "code",
   "execution_count": 11,
   "metadata": {},
   "outputs": [
    {
     "name": "stdout",
     "output_type": "stream",
     "text": [
      "I can only visualize three dimensional function !\n",
      "The best solution is in: [-0.43248185 -0.83503284 -0.6426348   1.22867542  1.25658904  0.20164191\n",
      "  0.09892838  1.66899168  0.88216377 -0.39351972 -0.91785579  0.155929\n",
      " -0.27878025 -0.99105565 -1.1407082   0.07778228 -0.55522984 -0.06637303\n",
      "  0.58302337  0.70969746], fitness function value is: 12.619413306436881. Achieved in 100 iterations\n",
      "I can only visualize three dimensional function !\n"
     ]
    }
   ],
   "source": [
    "seed = 1\n",
    "from numpy import random as nrand\n",
    "nrand.seed(seed)\n",
    "from random import seed\n",
    "seed(seed)\n",
    "json_config =\"\"\"\n",
    "{\n",
    "    \"algorithmType\": \"pso\",\n",
    "    \"fitness\": \"zakharov\",\n",
    "    \"w\": 0.5,\n",
    "    \"c1\": 0.7,\n",
    "    \"c2\": 0.8,\n",
    "    \"custom_c2\": false,\n",
    "    \"target_error\": 0,\n",
    "    \"iterations\": 100,\n",
    "    \"n_particles\": 600,\n",
    "    \"arguments_dimensions\": 20,\n",
    "    \"d_min\": -10,\n",
    "    \"d_max\": 10\n",
    "}\"\"\"\n",
    "cfg = json.loads(json_config, object_hook = as_config)\n",
    "App().run()"
   ]
  },
  {
   "cell_type": "code",
   "execution_count": 12,
   "metadata": {},
   "outputs": [
    {
     "name": "stdout",
     "output_type": "stream",
     "text": [
      "I can only visualize three dimensional function !\n",
      "The best solution is in: [ 0.60465769 -0.35665909 -0.07423155  0.92442713  1.16126495  0.75378846\n",
      " -0.74743498  0.94047621  0.21316706 -0.08039428 -0.02501439 -1.9762709\n",
      "  0.36800107  0.63614627 -0.44119699 -0.63879784  0.02025505 -0.40833985\n",
      "  0.91214695 -0.02137138], fitness function value is: 10.818307372839868. Achieved in 100 iterations\n",
      "I can only visualize three dimensional function !\n"
     ]
    }
   ],
   "source": [
    "seed = 1\n",
    "from numpy import random as nrand\n",
    "nrand.seed(seed)\n",
    "from random import seed\n",
    "seed(seed)\n",
    "json_config =\"\"\"\n",
    "{\n",
    "    \"algorithmType\": \"pso\",\n",
    "    \"fitness\": \"zakharov\",\n",
    "    \"w\": 0.5,\n",
    "    \"c1\": 0.7,\n",
    "    \"c2\": 0.8,\n",
    "    \"custom_c2\": true,\n",
    "    \"target_error\": 0,\n",
    "    \"iterations\": 100,\n",
    "    \"n_particles\": 600,\n",
    "    \"arguments_dimensions\": 20,\n",
    "    \"d_min\": -10,\n",
    "    \"d_max\": 10\n",
    "}\"\"\"\n",
    "cfg = json.loads(json_config, object_hook = as_config)\n",
    "App().run()"
   ]
  },
  {
   "cell_type": "markdown",
   "metadata": {},
   "source": [
    "## \"Particle Swarm Optimization\" vs \"Genetic Algorithm\"\n",
    "Zastosowano algorytmy: PSO oraz GA dla funkcji oznaczonej \"f2\" dla następujących parametrów:\n",
    "<table style=\"width:1000px;font-size:20px;text-align:left;\" >\n",
    "  <tr style=\"text-align:left;\">\n",
    "    <th>Algorytm</th>\n",
    "    <th>Funkcja</th>\n",
    "    <th>Wynik</th>\n",
    "    <th>num_dim</th>\n",
    "    <th>range</th>\n",
    "    <th>particles</th>\n",
    "    <th>W</th>\n",
    "    <th>C1</th> \n",
    "    <th>C2</th>\n",
    "  </tr>\n",
    "  <tr style=\"text-align:left;\">\n",
    "    <th>PSO</th>\n",
    "    <th>F2</th>\n",
    "    <th>342.01</th>\n",
    "    <th>20</th>\n",
    "    <th>&lt;-10, 10&gt; </th>\n",
    "    <th>2000</th>\n",
    "    <th>0.5</th>\n",
    "    <th>0.7</th>\n",
    "    <th>0.8</th>\n",
    "  </tr>\n",
    "  <tr style=\"text-align:left;\">\n",
    "    <th>GA</th>\n",
    "    <th>F2</th>\n",
    "    <th>304.431\t</th>\n",
    "    <th>20</th>\n",
    "    <th>&lt;-10, 10&gt; </th>\n",
    "    <th>2000</th>\n",
    "    <th>0.5</th>\n",
    "    <th>0.7</th>\n",
    "    <th>0.8</th>\n",
    "  </tr>\n",
    "  <tr style=\"text-align:left;\">\n",
    "    <th>PSO</th>\n",
    "    <th>Griewank</th>\n",
    "    <th>1.97</th>\n",
    "    <th>20</th>\n",
    "    <th>&lt;-10, 10&gt; </th>\n",
    "    <th>2000</th>\n",
    "    <th>0.5</th>\n",
    "    <th>0.7</th>\n",
    "    <th>0.8</th>\n",
    "  </tr>\n",
    "  <tr style=\"text-align:left;\">\n",
    "    <th>GA</th>\n",
    "    <th>Griewank</th>\n",
    "    <th>0</th>\n",
    "    <th>20</th>\n",
    "    <th>&lt;-10, 10&gt; </th>\n",
    "    <th>2000</th>\n",
    "    <th>0.5</th>\n",
    "    <th>0.7</th>\n",
    "    <th>0.8</th>\n",
    "  </tr>\n",
    "</table>\n",
    "<p>num_dim - Liczba wymiarów przestrzeni poszukiwań\n",
    "<p>range - Przedział wartości pojedynczego wymiaru</p>"
   ]
  },
  {
   "cell_type": "markdown",
   "metadata": {},
   "source": [
    "### Funkcja \"F2\""
   ]
  },
  {
   "cell_type": "code",
   "execution_count": 39,
   "metadata": {},
   "outputs": [
    {
     "name": "stdout",
     "output_type": "stream",
     "text": [
      "I can only visualize three dimensional function !\n",
      "The best solution is in: [ 3.87574243  0.93270256  1.97305033  2.95619663 10.          5.03634619\n",
      " 10.          7.04612528 10.         10.         10.         10.\n",
      " 10.         10.         10.         10.         10.         10.\n",
      " 10.         10.        ], fitness function value is: 342.01062255300553. Achieved in 80 iterations\n",
      "I can only visualize three dimensional function !\n"
     ]
    }
   ],
   "source": [
    "seed = 1\n",
    "from numpy import random as nrand\n",
    "nrand.seed(seed)\n",
    "from random import seed\n",
    "seed(seed)\n",
    "json_config =\"\"\"\n",
    "{\n",
    "    \"algorithmType\": \"pso\",\n",
    "    \"fitness\": \"f2\",\n",
    "    \"w\": 0.5,\n",
    "    \"c1\": 0.8,\n",
    "    \"c2\": 0.9,\n",
    "    \"target_error\": 1e-8,\n",
    "    \"iterations\": 80,\n",
    "    \"n_particles\": 2000,\n",
    "    \"arguments_dimensions\": 20,\n",
    "    \"d_min\": -10,\n",
    "    \"d_max\": 10\n",
    "}\"\"\"\n",
    "cfg = json.loads(json_config, object_hook = as_config)\n",
    "App().run()"
   ]
  },
  {
   "cell_type": "code",
   "execution_count": 40,
   "metadata": {},
   "outputs": [
    {
     "name": "stdout",
     "output_type": "stream",
     "text": [
      "gen\tnevals\tavg \tstd   \tmin    \tmax    \n",
      "0  \t2000  \t3111\t595.65\t1363.65\t4843.76\n",
      "1  \t1179  \t2585.82\t441.435\t1276.25\t4098.01\n",
      "2  \t1240  \t2199.83\t349.826\t957.29 \t3387.78\n",
      "3  \t1170  \t1912   \t289.636\t957.29 \t3109.45\n",
      "4  \t1189  \t1671.65\t244.52 \t853.78 \t2437.91\n",
      "5  \t1199  \t1477.9 \t208.568\t766.252\t2318.89\n",
      "6  \t1230  \t1313.45\t186.704\t722.285\t1980.24\n",
      "7  \t1236  \t1164.14\t172.357\t628.071\t1861.21\n",
      "8  \t1211  \t1040.09\t152.4  \t577.798\t1596.13\n",
      "9  \t1265  \t931.88 \t134.323\t552.661\t1580.68\n",
      "10 \t1237  \t835.507\t116.192\t421.509\t1475.64\n",
      "11 \t1197  \t755.789\t105.451\t421.509\t1398.94\n",
      "12 \t1222  \t692.313\t98.5374\t448.357\t1391.39\n",
      "13 \t1210  \t637.489\t88.682 \t432.164\t1422.1 \n",
      "14 \t1185  \t591.247\t82.0734\t388.336\t1171.69\n",
      "15 \t1209  \t550.354\t80.3415\t368.103\t1061.43\n",
      "16 \t1188  \t514.411\t73.03  \t361.209\t1048.8 \n",
      "17 \t1206  \t488.523\t78.435 \t368.875\t1170.87\n",
      "18 \t1223  \t460.898\t77.1373\t354.47 \t1094.45\n",
      "19 \t1187  \t435.872\t71.0481\t350.958\t1054.12\n",
      "20 \t1199  \t421.923\t73.4807\t350.245\t997.991\n",
      "21 \t1179  \t407.676\t74.9837\t344.057\t1000.7 \n",
      "22 \t1166  \t394.266\t70.391 \t333.283\t905.816\n",
      "23 \t1219  \t386.659\t78.2651\t332.296\t1285.9 \n",
      "24 \t1218  \t378.807\t73.4301\t329.949\t972.342\n",
      "25 \t1190  \t372.848\t74.2653\t325.27 \t1008.97\n",
      "26 \t1239  \t369.541\t85.7321\t320.656\t1028.02\n",
      "27 \t1212  \t358.308\t70.937 \t318.663\t974.114\n",
      "28 \t1213  \t356.738\t74.0223\t313.046\t900.18 \n",
      "29 \t1181  \t351.001\t73.8294\t312.111\t1107.08\n",
      "30 \t1234  \t349.2  \t77.5778\t310.092\t977.734\n",
      "31 \t1226  \t345.724\t75.365 \t309.287\t913.448\n",
      "32 \t1205  \t340.787\t75.9882\t308.408\t1087.3 \n",
      "33 \t1199  \t338.057\t75.1811\t307.368\t927.373\n",
      "34 \t1207  \t334.529\t73.1536\t306.778\t1025.26\n",
      "35 \t1255  \t339.011\t89.827 \t305.63 \t1123.16\n",
      "36 \t1204  \t335.674\t80.0219\t305.583\t1041   \n",
      "37 \t1236  \t331.765\t75.6766\t305.377\t959.841\n",
      "38 \t1221  \t328.538\t72.2872\t305.273\t1055.75\n",
      "39 \t1204  \t331.082\t78.9962\t305.232\t1111.33\n",
      "40 \t1180  \t326.9  \t70.6687\t304.786\t958.623\n",
      "41 \t1190  \t329.674\t79.1003\t304.786\t987.895\n",
      "42 \t1241  \t329.352\t75.5579\t304.773\t985.988\n",
      "43 \t1203  \t327.516\t75.6207\t304.53 \t1061.53\n",
      "44 \t1170  \t326.715\t74.8098\t304.517\t938.58 \n",
      "45 \t1183  \t325.304\t69.3175\t304.517\t975.196\n",
      "46 \t1200  \t326.789\t75.5156\t304.446\t822.175\n",
      "47 \t1234  \t328.378\t83.3786\t304.431\t1077.4 \n",
      "48 \t1161  \t324.98 \t66.9028\t304.431\t817.357\n",
      "49 \t1159  \t324.85 \t73.3707\t304.431\t980.087\n",
      "50 \t1214  \t326.569\t76.0908\t304.431\t845.109\n",
      "51 \t1190  \t326.224\t75.5172\t304.431\t978.013\n",
      "52 \t1181  \t327.73 \t78.07  \t304.431\t973.985\n",
      "53 \t1136  \t323.564\t70.2517\t304.431\t1073.86\n",
      "54 \t1199  \t325.313\t74.4478\t304.431\t1191.32\n",
      "55 \t1191  \t328.676\t81.3256\t304.431\t1060.17\n",
      "56 \t1151  \t323.81 \t69.2215\t304.431\t940.728\n",
      "57 \t1216  \t326.346\t74.8991\t304.431\t1022.98\n",
      "58 \t1183  \t324.841\t70.9129\t304.431\t843.143\n",
      "59 \t1241  \t324.383\t70.4395\t304.431\t1014.31\n",
      "60 \t1250  \t324.707\t73.9266\t304.431\t1021.2 \n",
      "61 \t1181  \t331.665\t89.6893\t304.431\t1138.2 \n",
      "62 \t1177  \t323.493\t70.3806\t304.431\t956.732\n",
      "63 \t1259  \t326.878\t73.4289\t304.431\t1016.69\n",
      "64 \t1148  \t326.12 \t78.2194\t304.431\t1054.98\n",
      "65 \t1154  \t327.594\t79.3024\t304.431\t1077.38\n",
      "66 \t1176  \t327.731\t76.7913\t304.431\t977.981\n",
      "67 \t1223  \t326.356\t75.2632\t304.431\t1076.18\n",
      "68 \t1195  \t326.642\t78.2627\t304.431\t1074.33\n",
      "69 \t1250  \t325.836\t73.4687\t304.431\t1014.31\n",
      "70 \t1181  \t326.258\t74.8282\t304.431\t960.745\n",
      "71 \t1199  \t327.697\t77.4064\t304.431\t937.497\n",
      "72 \t1248  \t325.896\t74.8131\t304.431\t897.149\n",
      "73 \t1173  \t328.054\t82.4024\t304.431\t1098.69\n",
      "74 \t1188  \t325.528\t73.5723\t304.431\t977.949\n",
      "75 \t1215  \t325.021\t70.5269\t304.431\t940.728\n",
      "76 \t1236  \t324.322\t71.3061\t304.431\t1017.64\n",
      "77 \t1233  \t326.137\t76.9597\t304.431\t1041.08\n",
      "78 \t1224  \t325.887\t75.4861\t304.431\t1024.23\n",
      "79 \t1225  \t323.964\t67.276 \t304.431\t857.71 \n",
      "80 \t1226  \t325.517\t72.3673\t304.431\t1060.72\n"
     ]
    }
   ],
   "source": [
    "seed = 1\n",
    "from numpy import random as nrand\n",
    "nrand.seed(seed)\n",
    "from random import seed\n",
    "seed(seed)\n",
    "json_config =\"\"\"\n",
    "{\n",
    "    \"algorithmType\": \"ga\",\n",
    "    \"fitness\": \"f2\",\n",
    "    \"w\": 0.5,\n",
    "    \"c1\": 0.8,\n",
    "    \"c2\": 0.9,\n",
    "    \"target_error\": 0,\n",
    "    \"iterations\": 80,\n",
    "    \"n_particles\": 2000,\n",
    "    \"arguments_dimensions\": 20,\n",
    "    \"d_min\": -10,\n",
    "    \"d_max\": 10\n",
    "}\"\"\"\n",
    "cfg = json.loads(json_config, object_hook = as_config)\n",
    "App().run()"
   ]
  },
  {
   "cell_type": "markdown",
   "metadata": {},
   "source": [
    "### Funkcja \"Griewank\""
   ]
  },
  {
   "cell_type": "code",
   "execution_count": 41,
   "metadata": {},
   "outputs": [
    {
     "name": "stdout",
     "output_type": "stream",
     "text": [
      "I can only visualize three dimensional function !\n",
      "The best solution is in: [-14.90166344  -7.35490992  -5.81904367  14.69154484   3.29545856\n",
      "   2.30207341 -12.96272031 -17.68649468 -14.02710741  26.19057764\n",
      "   8.09667497  -9.71331277 -15.72031188 -12.42935725   8.34415879\n",
      "  -7.92447079  -3.63687155 -14.94507237  -7.76285952 -31.57517501], fitness function value is: 1.973336522415012. Achieved in 80 iterations\n",
      "I can only visualize three dimensional function !\n"
     ]
    }
   ],
   "source": [
    "seed = 0\n",
    "from numpy import random as nrand\n",
    "nrand.seed(seed)\n",
    "from random import seed\n",
    "seed(seed)\n",
    "json_config =\"\"\"\n",
    "{\n",
    "    \"algorithmType\": \"pso\",\n",
    "    \"fitness\": \"griewank\",\n",
    "    \"w\": 0.5,\n",
    "    \"c1\": 0.8,\n",
    "    \"c2\": 0.9,\n",
    "    \"target_error\": 1e-8,\n",
    "    \"iterations\": 80,\n",
    "    \"n_particles\": 200,\n",
    "    \"arguments_dimensions\": 20,\n",
    "    \"d_min\": -600,\n",
    "    \"d_max\": 600\n",
    "}\"\"\"\n",
    "cfg = json.loads(json_config, object_hook = as_config)\n",
    "App().run()"
   ]
  },
  {
   "cell_type": "code",
   "execution_count": 42,
   "metadata": {},
   "outputs": [
    {
     "name": "stdout",
     "output_type": "stream",
     "text": [
      "gen\tnevals\tavg    \tstd    \tmin   \tmax    \n",
      "0  \t2000  \t604.569\t121.265\t271.08\t1076.99\n",
      "1  \t1179  \t497.878\t92.2881\t232.41\t752.828\n",
      "2  \t1240  \t414.359\t77.4466\t165.712\t640.931\n",
      "3  \t1170  \t346.996\t66.9919\t112.17 \t593.365\n",
      "4  \t1189  \t287.412\t57.5134\t110.427\t498.594\n",
      "5  \t1199  \t236.395\t50.7673\t69.1183\t402.97 \n",
      "6  \t1230  \t192.593\t43.6303\t57.3238\t371.568\n",
      "7  \t1236  \t153.415\t36.186 \t43.2228\t303.947\n",
      "8  \t1211  \t121.372\t30.0106\t37.1446\t257.869\n",
      "9  \t1265  \t94.7346\t24.7287\t14.0273\t204.144\n",
      "10 \t1237  \t72.6977\t19.2691\t14.0273\t151.83 \n",
      "11 \t1197  \t55.9686\t15.5179\t10.8546\t108.237\n",
      "12 \t1222  \t42.3186\t12.4134\t8.64222\t85.1708\n",
      "13 \t1210  \t31.3677\t9.3247 \t7.15166\t71.3821\n",
      "14 \t1185  \t23.1473\t7.10307\t4.11921\t47.0039\n",
      "15 \t1209  \t16.9177\t5.16974\t2.96997\t40.9941\n",
      "16 \t1188  \t12.6044\t3.75396\t2.84505\t31.3731\n",
      "17 \t1206  \t9.40968\t2.93546\t1.81763\t21.2634\n",
      "18 \t1223  \t6.85662\t2.43237\t1.53898\t17.1339\n",
      "19 \t1187  \t4.75847\t1.75887\t0.216913\t11.7121\n",
      "20 \t1199  \t3.33699\t1.05457\t0.655589\t10.8538\n",
      "21 \t1179  \t2.49021\t0.653414\t0.193022\t5.88514\n",
      "22 \t1166  \t1.96198\t0.462894\t0.193022\t4.02089\n",
      "23 \t1219  \t1.59418\t0.394485\t0.166535\t3.11451\n",
      "24 \t1218  \t1.28145\t0.367653\t0.0752964\t2.44976\n",
      "25 \t1190  \t0.99345\t0.368349\t0.0539352\t2.72751\n",
      "26 \t1239  \t0.695275\t0.302224\t0.0539352\t2.1777 \n",
      "27 \t1212  \t0.448392\t0.202983\t0        \t1.17299\n",
      "28 \t1213  \t0.286714\t0.14462 \t0        \t0.820134\n",
      "29 \t1181  \t0.181177\t0.0975136\t0        \t0.734886\n",
      "30 \t1234  \t0.121748\t0.078423 \t0        \t0.611393\n",
      "31 \t1226  \t0.0818222\t0.0735241\t0        \t0.641185\n",
      "32 \t1205  \t0.0481102\t0.062451 \t0        \t0.615201\n",
      "33 \t1199  \t0.0316098\t0.0690785\t0        \t0.638403\n",
      "34 \t1207  \t0.018368 \t0.0604191\t0        \t0.615394\n",
      "35 \t1255  \t0.0206016\t0.0733431\t0        \t0.603604\n",
      "36 \t1204  \t0.0179867\t0.0648611\t0        \t0.60201 \n",
      "37 \t1236  \t0.0167612\t0.061957 \t0        \t0.589738\n",
      "38 \t1221  \t0.0194078\t0.0719303\t0        \t0.606638\n",
      "39 \t1204  \t0.0174233\t0.065732 \t0        \t0.58523 \n",
      "40 \t1180  \t0.0167415\t0.0648471\t0        \t0.615394\n",
      "41 \t1190  \t0.0181576\t0.0675222\t0        \t0.640273\n",
      "42 \t1241  \t0.0203711\t0.0710461\t0        \t0.616201\n",
      "43 \t1203  \t0.0157716\t0.0586832\t0        \t0.605686\n",
      "44 \t1170  \t0.0188288\t0.0721996\t0        \t0.606985\n",
      "45 \t1183  \t0.0181283\t0.0689209\t0        \t0.600214\n",
      "46 \t1200  \t0.0163811\t0.0625497\t0        \t0.54798 \n",
      "47 \t1234  \t0.0181116\t0.0685708\t0        \t0.606985\n",
      "48 \t1161  \t0.0176852\t0.0642307\t0        \t0.560077\n",
      "49 \t1159  \t0.0169916\t0.0666555\t0        \t0.623745\n",
      "50 \t1214  \t0.0162775\t0.0605307\t0        \t0.635571\n",
      "51 \t1190  \t0.0196966\t0.0723407\t0        \t0.602758\n",
      "52 \t1181  \t0.019021 \t0.0678482\t0        \t0.59921 \n",
      "53 \t1136  \t0.0145363\t0.0575332\t0        \t0.60296 \n",
      "54 \t1199  \t0.0171469\t0.065428 \t0        \t0.547774\n",
      "55 \t1191  \t0.017026 \t0.064647 \t0        \t0.628071\n",
      "56 \t1151  \t0.0143545\t0.0573863\t0        \t0.588606\n",
      "57 \t1216  \t0.0175366\t0.0655039\t0        \t0.640273\n",
      "58 \t1183  \t0.0138847\t0.0560689\t0        \t0.559886\n",
      "59 \t1241  \t0.0174644\t0.0664133\t0        \t0.53556 \n",
      "60 \t1250  \t0.0145554\t0.0565416\t0        \t0.547774\n",
      "61 \t1181  \t0.0204801\t0.0750096\t0        \t0.612598\n",
      "62 \t1177  \t0.0158334\t0.0603546\t0        \t0.55362 \n",
      "63 \t1259  \t0.0163589\t0.0616663\t0        \t0.648153\n",
      "64 \t1148  \t0.01504  \t0.0557696\t0        \t0.544121\n",
      "65 \t1154  \t0.0171995\t0.0665676\t0        \t0.630384\n",
      "66 \t1176  \t0.0168362\t0.0614788\t0        \t0.591928\n",
      "67 \t1223  \t0.0178343\t0.0645717\t0        \t0.560542\n",
      "68 \t1195  \t0.0179675\t0.0662333\t0        \t0.513333\n",
      "69 \t1250  \t0.015442 \t0.0565772\t0        \t0.612598\n",
      "70 \t1181  \t0.0163026\t0.0620588\t0        \t0.560057\n",
      "71 \t1199  \t0.0180444\t0.0668088\t0        \t0.539714\n",
      "72 \t1248  \t0.0159619\t0.0627832\t0        \t0.633873\n",
      "73 \t1173  \t0.0170135\t0.0600808\t0        \t0.541836\n",
      "74 \t1188  \t0.0158675\t0.0599724\t0        \t0.603604\n",
      "75 \t1215  \t0.0177334\t0.0645833\t0        \t0.640273\n",
      "76 \t1236  \t0.0155385\t0.0625309\t0        \t0.595436\n",
      "77 \t1233  \t0.017466 \t0.064813 \t0        \t0.644747\n",
      "78 \t1224  \t0.0169565\t0.0638818\t0        \t0.589738\n",
      "79 \t1225  \t0.0169229\t0.0643212\t0        \t0.589738\n",
      "80 \t1226  \t0.0170769\t0.0640268\t0        \t0.603604\n"
     ]
    }
   ],
   "source": [
    "seed = 1\n",
    "from numpy import random as nrand\n",
    "nrand.seed(seed)\n",
    "from random import seed\n",
    "seed(seed)\n",
    "json_config =\"\"\"\n",
    "{\n",
    "    \"algorithmType\": \"ga\",\n",
    "    \"fitness\": \"griewank\",\n",
    "    \"w\": 0.5,\n",
    "    \"c1\": 0.8,\n",
    "    \"c2\": 0.9,\n",
    "    \"target_error\": 0.1,\n",
    "    \"iterations\": 80,\n",
    "    \"n_particles\": 2000,\n",
    "    \"arguments_dimensions\": 20,\n",
    "    \"d_min\": -600,\n",
    "    \"d_max\": 600\n",
    "}\"\"\"\n",
    "cfg = json.loads(json_config, object_hook = as_config)\n",
    "App().run()"
   ]
  }
 ],
 "metadata": {
  "kernelspec": {
   "display_name": "Python 3",
   "language": "python",
   "name": "python3"
  },
  "language_info": {
   "codemirror_mode": {
    "name": "ipython",
    "version": 3
   },
   "file_extension": ".py",
   "mimetype": "text/x-python",
   "name": "python",
   "nbconvert_exporter": "python",
   "pygments_lexer": "ipython3",
   "version": "3.7.6"
  }
 },
 "nbformat": 4,
 "nbformat_minor": 4
}
