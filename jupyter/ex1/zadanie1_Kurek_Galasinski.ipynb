{
 "cells": [
  {
   "cell_type": "markdown",
   "metadata": {},
   "source": [
    "# Sprawozdanie z **Obliczeń ewolucyjnych**\n",
    "## Zadanie 1 - Algorytm *Particle Swarm Optimization*"
   ]
  },
  {
   "cell_type": "markdown",
   "metadata": {},
   "source": [
    "# Konfiguracja\n",
    "Przy pomocy klasy Config można wybrać zastosowany algorytm oraz określić jego parametry:    \n",
    "- w - współczynnik zmęczenia.   \n",
    "- c1 - współczynnik przyspieszenia w kierunku własnego minimum cząstki\n",
    "- c2 - współczynnik przyspieszenia w kierunku globalnego minimum cząstek\n",
    "- iterations - ilość iteracji algorytmu  \n",
    "- target_error - najniższy stopień błędu - po osiągnięciu tego wyniku algorytm zatrzymuje się  \n",
    "- n_particles - ilość cząstek  \n",
    "- arguments_dimensions - liczba wymiarów, w których rozkładane są cząsteczki   \n",
    "- d_min - minimalna wartość współrzędnej dla każdego z wymiarów   \n",
    "- d_max - maksymalna wartość współrzędnej dla każdego z wymiarów   \n",
    "- fitness - wybór funkcji dostosowującej położenie cząstek         \n",
    " Dla celów badawczych, w dalszej części zaprezentowane są różne zestawy wartości konfiguracyjnych."
   ]
  },
  {
   "cell_type": "code",
   "execution_count": 2,
   "metadata": {},
   "outputs": [],
   "source": [
    "!pip install deap k3d > /dev/null\n",
    "%matplotlib inline\n",
    "from pathlib import Path\n",
    "import json\n",
    "\n",
    "class Config(object):\n",
    "    def __init__(self, algorithmType, w, c1, c2, custom_c2, iterations, target_error, n_particles, arguments_dimensions, d_min, d_max, fitness):\n",
    "        self.algorithmType = algorithmType\n",
    "        self.w = w\n",
    "        self.c1 = c1\n",
    "        self.c2 = c2\n",
    "        self.custom_c2 = custom_c2\n",
    "        self.iterations = iterations\n",
    "        self.target_error = target_error\n",
    "        self.n_particles = n_particles\n",
    "        self.arguments_dimensions = arguments_dimensions\n",
    "        self.d_min = d_min\n",
    "        self.d_max = d_max\n",
    "        self.d_max = d_max\n",
    "        self.fitness = fitness\n",
    "\n",
    "def as_config(dct):\n",
    "    return Config(\n",
    "        dct['algorithmType'],\n",
    "        dct['w'],\n",
    "        dct['c1'],\n",
    "        dct['c2'],\n",
    "        dct['custom_c2'] if dct.get('custom_c2') else False,\n",
    "        dct['iterations'], \n",
    "        dct['target_error'], \n",
    "        dct['n_particles'],\n",
    "        dct['arguments_dimensions'],\n",
    "        dct['d_min'], \n",
    "        dct['d_max'],\n",
    "        dct['fitness']\n",
    "        )"
   ]
  },
  {
   "cell_type": "markdown",
   "metadata": {},
   "source": [
    "# Algorytm genetyczny z użyciem \"deap\"\n",
    "W celu porównania samodzielnie zaimplementowanego algorytmu PSO do algorytmów genetycznych, poniżej zaimplementowano funkcję zwracające wyniki działania tego algorytmu z wykorzystaniem biblioteki \"deap\".  "
   ]
  },
  {
   "cell_type": "markdown",
   "metadata": {},
   "source": [
    "<div style=\"text-align: justify;\">Algorytm genetyczny (ang. <i>genetic algorithm</i>) -\n",
    "jest jedną z ewolucyjnych metod\n",
    "optymalizacji. Zalicza się go do klasy\n",
    "algorytmów heurystycznych.\n",
    "Przeszukiwanie możliwych rozwiązań w\n",
    "celu znalezienia rozwiązania najlepszego\n",
    "lub potencjalnie najlepszego odbywa się za\n",
    "pomocą mechanizmów ewolucji oraz\n",
    "doboru naturalnego.\n",
    "</div>\n",
    "<div> Koncepcyjnie algorytm składa się z następujących kroków:\n",
    "<ol>\n",
    "    <li>Inicjujemy (najczęściej w sposób losowy) pewną\n",
    "początkową populację osobników</li>\n",
    "    <li>Poddajemy każdego z nich ocenie</li>\n",
    "    <li>Z populacji wybieramy osobniki najlepiej\n",
    "do tego przystosowane</li>\n",
    "    <li>Za pomocą operacji genetycznych\n",
    "(krzyżowanie oraz mutacja) tworzymy\n",
    "nowe pokolenie</li>\n",
    "    <li>Powrót do punktu 2</li>\n",
    "</ol>\n",
    "</div>\n",
    "<div style=\"text-align: justify;\"> Potencjalne rozwiązania traktowane są jako\n",
    "osobniki populacji. Algorytm symuluje proces\n",
    "naturalnej selekcji poprzez ocenę przystosowania\n",
    "poszczególnych osobników, eliminację osobników\n",
    "słabszych i krzyżowanie ze sobą osobników\n",
    "najsilniejszych. Wynikiem działania algorytmu\n",
    "genetycznego jest populacja najlepiej\n",
    "przystosowanych osobników, wśród których\n",
    "może znajdować się najlepsze rozwiązanie.\n",
    "Jednocześnie najlepiej przystosowane osobniki nie\n",
    "muszą leżeć blisko siebie w przestrzeni rozwiązań.\n",
    "</div><p></br></p>\n",
    "<div>\n",
    "    Ustawiono następujące wartości parametrów konfiguracyjnych dla algorytmu genetycznego:\n",
    "</div>\n",
    "<ul>\n",
    "    <li>Prawdopodobieństwo mutacji (<i>mutpb</i>) - 0.2</li>\n",
    "    <li>Prawdopodobieństwo krzyżowania (<i>cxpb</i>, ang. crossover probability) - odstetek w jakim nowa populacja składa się z krzyżówek, a w jakim stopniu z niezmienionych osobników</li>\n",
    "    <li>Funkcja mutacji (<i>mutate</i>) - \"mutFlipBit\" oznacza funkcję odwracającą wartość poszczególnych atrybutów z określonym prawdopodobieństwem  </li>\n",
    "    <li>Metoda selekcji (<i>select</i>) - turniejowa, rozmiar turnieji (<i>tournsize</i>) wynosi 3</li>\n",
    "    <li>Ilość generacji (<i>ngen</i>) - kontrolowana wartością \"iterations\" z uprzednio opisanej konfiguracji</li>\n",
    "    <li>Typ krzyżowania (<i>mate</i>) - \"cxTwoPointCopy\" oznacza krzyżowanie typu <i>two point crossover</i>, w którym losuje się dwa punkty dzielące chromosomy rodziców na trzy części. Dzieci powstają poprzez zamianę miejscami środkowego odcinka chromosomów rodziców.\n",
    "</ul>"
   ]
  },
  {
   "cell_type": "code",
   "execution_count": 15,
   "metadata": {},
   "outputs": [],
   "source": [
    "import random\n",
    "import numpy\n",
    "import inspect\n",
    "from deap import algorithms, base, creator, tools\n",
    "\n",
    "# translates into tuple\n",
    "def gaFitness(individual):\n",
    "    return fitness(individual),\n",
    "\n",
    "def cxTwoPointCopy(ind1, ind2):\n",
    "    size = len(ind1)\n",
    "    cxpoint1 = random.randint(1, size)\n",
    "    cxpoint2 = random.randint(1, size - 1)\n",
    "    if cxpoint2 >= cxpoint1:\n",
    "        cxpoint2 += 1\n",
    "    else: # Swap the two cx points\n",
    "        cxpoint1, cxpoint2 = cxpoint2, cxpoint1\n",
    "\n",
    "    ind1[cxpoint1:cxpoint2], ind2[cxpoint1:cxpoint2] \\\n",
    "        = ind2[cxpoint1:cxpoint2].copy(), ind1[cxpoint1:cxpoint2].copy()\n",
    "        \n",
    "    return ind1, ind2\n",
    "\n",
    "def genetic():\n",
    "    creator.create(\"FitnessMin\", base.Fitness, weights=(-1.0,))\n",
    "    creator.create(\"Individual\", numpy.ndarray, fitness=creator.FitnessMin)\n",
    "\n",
    "    toolbox = base.Toolbox()\n",
    "    toolbox.register(\"attr_bool\", lambda: (cfg.d_max-cfg.d_min)*random.random() + cfg.d_min)\n",
    "    toolbox.register(\"individual\", tools.initRepeat, creator.Individual, toolbox.attr_bool, n=cfg.arguments_dimensions)\n",
    "    toolbox.register(\"population\", tools.initRepeat, list, toolbox.individual)\n",
    "    toolbox.register(\"evaluate\", gaFitness)\n",
    "    toolbox.register(\"mate\", cxTwoPointCopy)\n",
    "    toolbox.register(\"mutate\", tools.mutFlipBit, indpb=0.05)\n",
    "    toolbox.register(\"select\", tools.selTournament, tournsize=3)\n",
    "    pop = toolbox.population(n=cfg.n_particles)\n",
    "    hof = tools.HallOfFame(1, similar=numpy.array_equal)\n",
    "    \n",
    "    stats = tools.Statistics(lambda ind: ind.fitness.values)\n",
    "    stats.register(\"avg\", numpy.mean)\n",
    "    stats.register(\"std\", numpy.std)\n",
    "    stats.register(\"min\", numpy.min)\n",
    "    stats.register(\"max\", numpy.max)\n",
    "    \n",
    "    return algorithms.eaSimple(pop, toolbox, cxpb=0.5, mutpb=0.2, ngen=cfg.iterations, stats=stats, halloffame=hof, verbose=False)"
   ]
  },
  {
   "cell_type": "markdown",
   "metadata": {},
   "source": [
    "# Klasy algorytmu PSO\n",
    "Poniżej przedstawione są klasy repezentujące \"rój\".\n",
    "### Particle\n",
    "Klasa reprezentacja jedną cząsteczkę w przestrzeni poszukiwań:  \n",
    "- position - pozycja w przestrzeni zdefiniowanej w pliku konfiguracyjnym. \n",
    "- pbest_position - najlepsza pozycja cząsteczki\n",
    "- pbest_value - najlepsza osiągnięta przez tę czastęczkę wartość\n",
    "- velocity - wektor, który przechowuje informacje nt. tzw prędkości cząsteczki.  \n",
    "### Space\n",
    "Klasa reprezentująca przestrzeń poszukiwań, w której poruszają się cząsteczki\n",
    "- particles[] - tablica cząsteczek\n",
    "- gbest_position - globalnie najlepsza pozycja cząsteczki - inicjowana losowo \n",
    "- gbest_value - najlepsza wartość funkcji przystosowania dowolnej z cząsteczek"
   ]
  },
  {
   "cell_type": "code",
   "execution_count": 4,
   "metadata": {},
   "outputs": [],
   "source": [
    "import random\n",
    "import numpy as np\n",
    "\n",
    "class Particle():\n",
    "    def __init__(self):\n",
    "        self.position = (cfg.d_max - cfg.d_min) * np.random.random(cfg.arguments_dimensions) + cfg.d_min\n",
    "        self.pbest_position = self.position\n",
    "        self.pbest_value = float('inf')\n",
    "        self.velocity = np.zeros(cfg.arguments_dimensions)\n",
    "    \n",
    "    def move(self):\n",
    "        self.position = self.position + self.velocity\n",
    "        for i in range(len(self.position)):\n",
    "            if self.position[i] > cfg.d_max:\n",
    "                self.position[i] = cfg.d_max\n",
    "            if self.position[i] < cfg.d_min:\n",
    "                self.position[i] = cfg.d_min\n",
    "\n",
    "    def __str__(self):\n",
    "        print(f'My position is {self.position}, my pbest is {self.pbest_position}')\n",
    "\n",
    "class Space():\n",
    "    def __init__(self):\n",
    "        self.particles = []\n",
    "        self.gbest_value = float('inf')\n",
    "        self.gbest_position = np.array([x * np.random.random_sample()*cfg.d_max for x in range(cfg.arguments_dimensions)])\n",
    "\n",
    "    def print_particles(self):\n",
    "        for particle in self.particles:\n",
    "            particle.__str__()\n",
    "\n",
    "    def set_pbest(self):\n",
    "        for particle in self.particles:\n",
    "            fitness_cadidate:float = fitness(particle.position)\n",
    "            if(particle.pbest_value > fitness_cadidate):\n",
    "                particle.pbest_value = fitness_cadidate\n",
    "                particle.pbest_position = particle.position\n",
    "\n",
    "    def set_gbest(self):\n",
    "        for particle in self.particles:\n",
    "            best_fitness_cadidate = fitness(particle.position)\n",
    "            if(self.gbest_value > best_fitness_cadidate):\n",
    "                self.gbest_value = best_fitness_cadidate\n",
    "                self.gbest_position = particle.position\n",
    "\n",
    "    def move_particles(self):\n",
    "        for particle in self.particles:\n",
    "            new_velocity = (cfg.w*particle.velocity) + (cfg.c1*np.random.random_sample()) * (particle.pbest_position - particle.position) + \\\n",
    "                            (np.random.random_sample()*cfg.c2) * (self.gbest_position - particle.position)\n",
    "            particle.velocity = new_velocity\n",
    "            particle.move()\n"
   ]
  },
  {
   "cell_type": "markdown",
   "metadata": {},
   "source": [
    "# Wykresy\n",
    "Wykorzystano bibliotekę k3d w celu przedstawienia trójwymiarowych wykresów \"roju\", tam gdzie było to możliwe."
   ]
  },
  {
   "cell_type": "code",
   "execution_count": 5,
   "metadata": {},
   "outputs": [],
   "source": [
    "from numpy import exp,array,float32\n",
    "import k3d\n",
    "from uuid import uuid4\n",
    "\n",
    "def plot_particles(particles):\n",
    "    if len(particles) == 0:\n",
    "        print(\"No particles to visualize !\")\n",
    "        return\n",
    "    if len(particles[0].position) != 2:\n",
    "#         print(\"I can only visualize three dimensional function !\")\n",
    "        return\n",
    "    x = list(map(lambda p: (p.position[0], p.position[1], fitness(p.position)), particles))\n",
    "    plot = k3d.plot(name=str(uuid4()))\n",
    "    plt_points = k3d.points(positions=x, point_size=0.2)\n",
    "    plot += plt_points\n",
    "    plt_points.shader='3d'\n",
    "    plot.display()"
   ]
  },
  {
   "cell_type": "markdown",
   "metadata": {},
   "source": [
    "<h2>Funkcje przystosowania</h2>\n",
    "\n",
    "<div>Poniższa sekcja przestawia zaimplementowane funkcje dostosowania cząsteczek. Wybranie funkcji następuje przy pomocy odpowiedniego parametru w konfiguracji.\n",
    "</div>\n",
    "<p> </p>\n",
    "<div>\n",
    "<p>Sincos</p>\n",
    "<img src=\"pics/sincos.png\" width=\"300\">\n",
    "Sincos2\n",
    "<img src=\"pics/sincos2.png\" width=\"300\">\n",
    "Sphere\n",
    "    <img src=\"pics/sphere.png\" width=\"200\">\n",
    "F2\n",
    "    <img src=\"pics/f2.png\" width=\"200\">\n",
    "Griewank\n",
    "    <img src=\"pics/griewank.png\" width=\"300\">\n",
    "Rosenbrock\n",
    "    <img src=\"pics/rosen.png\" width=\"300\">\n",
    "Zakharov\n",
    "    <img src=\"pics/zakharov.png\" width=\"300\">\n",
    "</div>"
   ]
  },
  {
   "cell_type": "code",
   "execution_count": 6,
   "metadata": {},
   "outputs": [],
   "source": [
    "from numpy import sum, asarray_chkfinite, arange, prod, sqrt, cos, sin\n",
    "from functools import reduce\n",
    "def fitness(position, fr=4000):\n",
    "    if cfg.fitness == \"sincos\":\n",
    "        return sin(position[0]) + cos(position[1])\n",
    "    if cfg.fitness == \"sincos2\":\n",
    "        return sin(position[0]) + cos(position[1]) + position[0] + position[1]\n",
    "    elif cfg.fitness == \"sphere\":\n",
    "        return reduce(lambda p,n: p + n**2, position)\n",
    "    elif cfg.fitness == \"rosen\":\n",
    "        return sum(100.0*(position[1:]-position[:-1]**2.0)**2.0 + (position[:-1]-1)**2.0)\n",
    "    elif cfg.fitness == \"griewank\":\n",
    "        n = len(position)\n",
    "        j = arange( 1., n+1 )\n",
    "        s = sum( position**2 )\n",
    "        p = prod( cos( position / sqrt(j) ))\n",
    "        return s/fr - p + 1\n",
    "    elif cfg.fitness == \"zakharov\":\n",
    "        x = np.asarray_chkfinite(position)\n",
    "        n = len(x)\n",
    "        j = np.arange( 1., n+1 )\n",
    "        s2 = sum( j * x ) / 2\n",
    "        return sum( x**2 ) + s2**2 + s2**4\n",
    "    elif cfg.fitness == \"f2\":\n",
    "        s = 0\n",
    "        for x in range(1, len(position)):\n",
    "            s = s + (position[x]-x)**2\n",
    "        return s\n",
    "    else:\n",
    "        print(\"Unknown fitenss function\")\n",
    "        raise"
   ]
  },
  {
   "cell_type": "markdown",
   "metadata": {},
   "source": [
    "# Pętla aplikacji\n",
    "Pętla programowa odpowiedzialna za wywoływanie logiki wybranego algorytmu PSO lub GA."
   ]
  },
  {
   "cell_type": "code",
   "execution_count": 7,
   "metadata": {},
   "outputs": [],
   "source": [
    "import numpy as np\n",
    "class App():\n",
    "    def run(self, config_prop=\"arguments_dimensions\"):\n",
    "        if(cfg.algorithmType == \"pso\"):\n",
    "            c2_begin = cfg.c2\n",
    "            search_space = Space()\n",
    "            particles_vector = [Particle() for _ in range(cfg.n_particles)]\n",
    "            search_space.particles = particles_vector\n",
    "            plot_particles(search_space.particles)            \n",
    "#             search_space.print_particles()\n",
    "            iteration = 0\n",
    "            while iteration < cfg.iterations:\n",
    "                if cfg.custom_c2 == True:\n",
    "                    cfg.c2 = c2_begin * ((cfg.iterations*0.9 - iteration)/cfg.iterations)\n",
    "                last_gbest = search_space.gbest_value\n",
    "                search_space.set_pbest()\n",
    "                search_space.set_gbest()\n",
    "                search_space.move_particles()\n",
    "                iteration += 1\n",
    "                if abs(last_gbest - search_space.gbest_value) < cfg.target_error:\n",
    "                    break\n",
    "            print(f\"Fitness function value: {fitness(search_space.gbest_position)} achieved for {config_prop} = {getattr(cfg, config_prop)}.\\nThe best solution is in: {search_space.gbest_position}.\\nAchieved in {iteration} iterations\")\n",
    "#             plot_particles(search_space.particles)\n",
    "#             search_space.print_particles()\n",
    "        elif(cfg.algorithmType == \"ga\"):\n",
    "            return genetic()[-1][-1]\n",
    "\n",
    "        else:\n",
    "            print(f\"Unknown algorithm type: {cfg.algorithmType}\")"
   ]
  },
  {
   "cell_type": "markdown",
   "metadata": {},
   "source": [
    "### Ziarno losowości"
   ]
  },
  {
   "cell_type": "code",
   "execution_count": 8,
   "metadata": {},
   "outputs": [],
   "source": [
    "from numpy import random as nrand\n",
    "nrand.seed(0)\n",
    "from random import seed\n",
    "seed(0)"
   ]
  },
  {
   "cell_type": "markdown",
   "metadata": {},
   "source": [
    "# Badania\n",
    "Przeprowadzono eksperyment uruchomień algorytmu dla różnych zestawów parametrów konfiguracyjnych. Poniżej przedstawiono poszczególne przykłady wraz z wynikami w postaci wykresów 3D lub najlepszego osiągniętego wyniku."
   ]
  },
  {
   "cell_type": "markdown",
   "metadata": {},
   "source": [
    "### Początkowa konfiguracja"
   ]
  },
  {
   "cell_type": "code",
   "execution_count": 9,
   "metadata": {},
   "outputs": [],
   "source": [
    "json_config =\"\"\"\n",
    "{\n",
    "    \"algorithmType\": \"pso\",\n",
    "    \"fitness\": \"griewank\",\n",
    "    \"w\": 0.5,\n",
    "    \"c1\": 0.9,\n",
    "    \"c2\": 0.7,\n",
    "    \"custom_c2\": false,\n",
    "    \"target_error\": 0,\n",
    "    \"iterations\": 2000,\n",
    "    \"n_particles\": 30,\n",
    "    \"arguments_dimensions\": 10,\n",
    "    \"d_min\": -10,\n",
    "    \"d_max\": 10\n",
    "}\"\"\""
   ]
  },
  {
   "cell_type": "markdown",
   "metadata": {},
   "source": [
    "### Funkcja Griewank\n",
    "Przeprowadzono doświadczenie dla dwóch zestawów parametrów wagi inercyjnej, składników kognitywnego oraz socjalnego.\n",
    "\n",
    "<!-- <table style=\"width:150px;font-size:20px;text-align:left;\" >\n",
    "  <tr style=\"text-align:left;\">\n",
    "    <th>W</th>\n",
    "    <th>C1</th> \n",
    "    <th>C2</th>\n",
    "  </tr>\n",
    "  <tr>\n",
    "    <td>0.5</td>\n",
    "    <td>0.8</td>\n",
    "    <td>0.8</td>\n",
    "  </tr>\n",
    "  <tr>\n",
    "    <td>0.5</td>\n",
    "    <td>0.2</td>\n",
    "    <td>0.4</td>\n",
    "  </tr>\n",
    "</table> -->"
   ]
  },
  {
   "cell_type": "code",
   "execution_count": 10,
   "metadata": {},
   "outputs": [
    {
     "name": "stdout",
     "output_type": "stream",
     "text": [
      "Fitness function value: 0.2638724548750093 achieved for c1 = 0.9.\n",
      "The best solution is in: [ 9.4619773   4.66607399  0.32056301  5.96875723 -6.31257436  1.06951611\n",
      " -8.46089282  8.86652809  0.06362297  0.2368261 ].\n",
      "Achieved in 2000 iterations\n",
      "Fitness function value: 0.17378528759596024 achieved for c1 = 0.8.\n",
      "The best solution is in: [ 0.0829191  -4.37216281 -0.08826428  0.57964876  0.4571807   7.32517983\n",
      " -0.14988825  0.14289051 -1.15870204  0.39931021].\n",
      "Achieved in 2000 iterations\n",
      "Fitness function value: 0.4188554780198983 achieved for c1 = 0.7000000000000001.\n",
      "The best solution is in: [ 3.57734067  0.26771718  0.44395137 -0.4215207   0.88807791  0.01937893\n",
      "  0.68623636 -8.00876944 -1.18915256  1.33421421].\n",
      "Achieved in 2000 iterations\n",
      "Fitness function value: 0.20489145155016064 achieved for c1 = 0.6000000000000001.\n",
      "The best solution is in: [-0.11889734 -0.02631776 -0.01022821  6.13648033  1.18625915  0.21730889\n",
      " -0.30800365 -8.31313058  0.21697584  0.28005901].\n",
      "Achieved in 2000 iterations\n",
      "Fitness function value: 0.3119444458886781 achieved for c1 = 0.5000000000000001.\n",
      "The best solution is in: [-6.30121699 -4.38911579  0.11525266 -5.7455259  -6.4691132  -0.5335151\n",
      "  7.97533532 -9.6832877   9.64788094 -1.36722413].\n",
      "Achieved in 2000 iterations\n",
      "Fitness function value: 0.31529105403596336 achieved for c1 = 0.40000000000000013.\n",
      "The best solution is in: [-9.39764718 -4.57625035  0.44996588  6.3706401   6.24303693 -7.41857109\n",
      "  0.5148304  -8.96860467  1.53529782 -0.11307183].\n",
      "Achieved in 2000 iterations\n",
      "Fitness function value: 0.20202249425881813 achieved for c1 = 0.30000000000000016.\n",
      "The best solution is in: [-0.17073001  0.0339726   0.17199581 -0.66891951 -0.12382362 -8.41622888\n",
      " -7.70329061 -0.66744535 -0.28061383  0.27626351].\n",
      "Achieved in 2000 iterations\n"
     ]
    }
   ],
   "source": [
    "cfg = json.loads(json_config, object_hook = as_config)\n",
    "for i in range(7):\n",
    "    App().run(\"c1\")\n",
    "    cfg.c1 = cfg.c1-0.1"
   ]
  },
  {
   "cell_type": "markdown",
   "metadata": {},
   "source": [
    "#### Przyjęto C1 = 0.8 dla którego uzyskano najlepsze wyniki."
   ]
  },
  {
   "cell_type": "code",
   "execution_count": 16,
   "metadata": {},
   "outputs": [],
   "source": [
    "json_config =\"\"\"\n",
    "{\n",
    "    \"algorithmType\": \"pso\",\n",
    "    \"fitness\": \"griewank\",\n",
    "    \"w\": 0.5,\n",
    "    \"c1\": 0.4,\n",
    "    \"c2\": 0.9,\n",
    "    \"custom_c2\": false,\n",
    "    \"target_error\": 0,\n",
    "    \"iterations\": 2000,\n",
    "    \"n_particles\": 30,\n",
    "    \"arguments_dimensions\": 10,\n",
    "    \"d_min\": -10,\n",
    "    \"d_max\": 10\n",
    "}\"\"\""
   ]
  },
  {
   "cell_type": "code",
   "execution_count": 17,
   "metadata": {
    "scrolled": false
   },
   "outputs": [
    {
     "name": "stdout",
     "output_type": "stream",
     "text": [
      "Fitness function value: 0.2076220024986547 achieved for c2 = 0.9.\n",
      "The best solution is in: [ 6.28726039 -4.3304849  -5.54027283 -6.2034371   7.13604201 -0.3049966\n",
      "  8.05706645 -9.04268148  1.03488539 -1.01994789].\n",
      "Achieved in 2000 iterations\n",
      "Fitness function value: 0.2723980650279414 achieved for c2 = 0.8.\n",
      "The best solution is in: [ 6.23727911  8.8991006  10.          0.0166595  -0.03513246 -8.02049168\n",
      "  0.16992922  8.21140317 -0.36274667 -0.63340828].\n",
      "Achieved in 2000 iterations\n",
      "Fitness function value: 0.5697421528000062 achieved for c2 = 0.7000000000000001.\n",
      "The best solution is in: [ 0.10282422  0.54201561 -4.99183411  0.64469324 -6.51305603  7.72335526\n",
      " -0.7512729  -0.45410036 -6.78315441  0.96243239].\n",
      "Achieved in 2000 iterations\n",
      "Fitness function value: 0.22946197970067128 achieved for c2 = 0.6000000000000001.\n",
      "The best solution is in: [-3.19859065 -4.33906133  5.22098431 -5.92134977 -0.39723121 -0.65246393\n",
      "  7.76173975 -8.03275479 -0.5174859   0.75636885].\n",
      "Achieved in 2000 iterations\n",
      "Fitness function value: 0.32865374549956894 achieved for c2 = 0.5000000000000001.\n",
      "The best solution is in: [-0.09561261  0.41476912 -5.02154209 -0.49266218 -6.43605024  0.96430169\n",
      " -0.19844486 -1.17326201  0.50291299 -0.92914749].\n",
      "Achieved in 2000 iterations\n",
      "Fitness function value: 0.34704532236429775 achieved for c2 = 0.40000000000000013.\n",
      "The best solution is in: [ 3.16517236  0.13012674  0.77628334  6.2234964  -6.05234695 -7.97935911\n",
      " -0.38335381 -9.34511462 -1.08285012 -9.70587806].\n",
      "Achieved in 2000 iterations\n",
      "Fitness function value: 0.4356812369665277 achieved for c2 = 0.30000000000000016.\n",
      "The best solution is in: [-3.29748647 -0.13676556  5.47260212  0.14531302 -7.86368412  7.67277172\n",
      "  1.78131653 -8.77221418 -9.59312758  1.34403298].\n",
      "Achieved in 2000 iterations\n"
     ]
    }
   ],
   "source": [
    "cfg = json.loads(json_config, object_hook = as_config)\n",
    "for i in range(7):\n",
    "    App().run(\"c2\")\n",
    "    cfg.c2 = cfg.c2-0.1"
   ]
  },
  {
   "cell_type": "markdown",
   "metadata": {},
   "source": [
    "#### Przyjęto C2 = 0.9, ponieważ poniżej 0.9 zaobserwowano spadek jakości rozwiązania"
   ]
  },
  {
   "cell_type": "code",
   "execution_count": 18,
   "metadata": {},
   "outputs": [
    {
     "name": "stdout",
     "output_type": "stream",
     "text": [
      "Fitness function value: 0.08616345492036392 achieved for w = 0.9.\n",
      "The best solution is in: [ 9.42001139e+00  9.45770578e-06  5.43324041e+00 -6.27060594e+00\n",
      " -7.00731482e+00  7.67234003e+00  1.10792807e-04 -8.85031142e+00\n",
      " -4.49690800e-05  1.69975511e-04].\n",
      "Achieved in 2000 iterations\n",
      "Fitness function value: 0.07155887299664565 achieved for w = 0.8.\n",
      "The best solution is in: [-3.13731034e+00  4.43807945e+00 -5.42912489e+00  1.91591231e-02\n",
      "  1.69825685e-03  7.63078248e+00 -8.30521493e+00  1.38807550e-02\n",
      " -5.10363162e-03 -9.87763390e+00].\n",
      "Achieved in 2000 iterations\n",
      "Fitness function value: 0.053506163367269766 achieved for w = 0.7000000000000001.\n",
      "The best solution is in: [ 3.15999635 -0.01485948 -5.3981026   0.08397339 -7.07333697  0.17769714\n",
      " -0.16826394 -0.20633602  9.3395724  -0.03110578].\n",
      "Achieved in 2000 iterations\n",
      "Fitness function value: 0.08900632870910063 achieved for w = 0.6000000000000001.\n",
      "The best solution is in: [-3.11244177  8.94812526 -5.45353155 -0.05042419 -0.05225582 -0.06169819\n",
      "  0.24155296 -8.72305727  0.34953982 10.        ].\n",
      "Achieved in 2000 iterations\n",
      "Fitness function value: 0.31363342496043756 achieved for w = 0.5000000000000001.\n",
      "The best solution is in: [-0.20888437 -0.54568791  5.44498897  0.35974312 -6.77987658 -7.69009038\n",
      " -0.17667463  1.01285315 -9.00037567 -1.39802219].\n",
      "Achieved in 2000 iterations\n",
      "Fitness function value: 0.33128551347487634 achieved for w = 0.40000000000000013.\n",
      "The best solution is in: [ 9.56916815 -4.63132645  0.3051538  -0.19088941  6.94466735 -6.75527154\n",
      " -0.56336739  9.2130782  -8.56712949  1.30042388].\n",
      "Achieved in 2000 iterations\n",
      "Fitness function value: 0.4330581163475069 achieved for w = 0.30000000000000016.\n",
      "The best solution is in: [ 3.15181141e+00 -4.42179259e+00 -5.68154272e+00 -6.19376453e+00\n",
      "  7.32946438e+00  1.28207078e+00  9.05372479e-01 -7.39067188e+00\n",
      "  6.30979829e-04  1.43956326e+00].\n",
      "Achieved in 2000 iterations\n"
     ]
    }
   ],
   "source": [
    "cfg = json.loads(json_config, object_hook = as_config)\n",
    "cfg.c1 = 0.8\n",
    "cfg.c1 = 0.9\n",
    "cfg.w = 0.9\n",
    "for i in range(7):\n",
    "    App().run(\"w\")\n",
    "    cfg.w = cfg.w-0.1"
   ]
  },
  {
   "cell_type": "markdown",
   "metadata": {},
   "source": [
    "#### Przyjęto w = 0.5 dla którego uzyskano najlepsze wyniki."
   ]
  },
  {
   "cell_type": "markdown",
   "metadata": {},
   "source": [
    "### Funkcja *zakharov*\n",
    "Zaimplementowano możliwość zastosowania malejącej liniowo wraz z rosnącym numerem iteracji wartości składnika socjalnego. Użycie tej modyfikacji kontrolowane jest poprzez wartość klucza \"custom_c2\", odpowiednio na \"true\" lub \"false\".  \n",
    "Zastosowanie tego rozwiązania przetestowano na przykładzie funkcji \"Zakharov\" dla przedstawionych poniżej parametrów.  \n",
    "W przeprowadzonym eksperymencie, zastosowanie tej modyfikacji umożliwiło osiągnięcie poprawy wyniku z **12.62 do 10.82**\n",
    "<table style=\"width:1000px;font-size:20px;text-align:left;\" >\n",
    "  <tr style=\"text-align:left;\">\n",
    "    <th>Funkcja</th>\n",
    "    <th>mss</th>\n",
    "    <th>num_dim</th>\n",
    "    <th>range</th>\n",
    "    <th>W</th>\n",
    "    <th>C1</th> \n",
    "    <th>C2</th>\n",
    "  </tr>\n",
    "  <tr style=\"text-align:left;\">\n",
    "    <th>Zakharov</th>\n",
    "    <th>Nie</th>\n",
    "      <th>20</th>\n",
    "      <th>&lt;-10, 10&gt; </th>\n",
    "      <th>0.5</th>\n",
    "      <th>0.8</th>\n",
    "      <th>0.9</th>\n",
    "  </tr>\n",
    "  <tr style=\"text-align:left;\">\n",
    "    <th>Zakharov</th>\n",
    "    <th>Tak</th>\n",
    "      <th>20</th>\n",
    "      <th>&lt;-10, 10&gt; </th>\n",
    "      <th>0.5</th>\n",
    "      <th>0.8</th>\n",
    "      <th>0.9</th>\n",
    "  </tr>\n",
    "</table>\n",
    "<div>\n",
    "    <p>mss - Malejący składnik socjalny</p>\n",
    "    <p>num_dim - Liczba wymiarów przestrzeni poszukiwań</p>\n",
    "    <p>range - Przedział wartości pojedynczego wymiaru</p>\n",
    "</div>"
   ]
  },
  {
   "cell_type": "code",
   "execution_count": 12,
   "metadata": {},
   "outputs": [
    {
     "name": "stdout",
     "output_type": "stream",
     "text": [
      "Fitness function value: 62.60010306394889 achieved for arguments_dimensions = 20.\n",
      "The best solution is in: [ 0.21337415 -1.12064921  1.83092286  0.53837097 -3.20568751 -2.07894863\n",
      "  2.02222887 -0.60953272 -0.03421801  1.11465259 -4.02704102  2.80106827\n",
      "  1.48415861  0.45655883  0.95300907 -1.45710622  1.06102408  0.9309514\n",
      "  0.45059682 -2.35788394].\n",
      "Achieved in 2000 iterations\n"
     ]
    }
   ],
   "source": [
    "seed = 1\n",
    "from numpy import random as nrand\n",
    "nrand.seed(seed)\n",
    "from random import seed\n",
    "seed(seed)\n",
    "json_config =\"\"\"\n",
    "{\n",
    "    \"algorithmType\": \"pso\",\n",
    "    \"fitness\": \"zakharov\",\n",
    "    \"w\": 0.5,\n",
    "    \"c1\": 0.8,\n",
    "    \"c2\": 0.9,\n",
    "    \"custom_c2\": false,\n",
    "    \"target_error\": 0,\n",
    "    \"iterations\": 2000,\n",
    "    \"n_particles\": 50,\n",
    "    \"arguments_dimensions\": 20,\n",
    "    \"d_min\": -10,\n",
    "    \"d_max\": 10\n",
    "}\"\"\"\n",
    "cfg = json.loads(json_config, object_hook = as_config)\n",
    "App().run()"
   ]
  },
  {
   "cell_type": "code",
   "execution_count": 13,
   "metadata": {},
   "outputs": [
    {
     "name": "stdout",
     "output_type": "stream",
     "text": [
      "Fitness function value: 54.733619336857856 achieved for arguments_dimensions = 20.\n",
      "The best solution is in: [ 1.08521838 -0.72979307  1.89888906 -1.59426515 -3.3178446  -1.96833027\n",
      "  0.30231872  0.16782884 -0.4556276   0.19012749 -2.55732463  3.14843195\n",
      " -0.95991309  0.40811325  2.20686811 -0.25990484  0.71530134 -1.23666\n",
      "  1.62410106 -1.102509  ].\n",
      "Achieved in 2000 iterations\n"
     ]
    }
   ],
   "source": [
    "seed = 1\n",
    "from numpy import random as nrand\n",
    "nrand.seed(seed)\n",
    "from random import seed\n",
    "seed(seed)\n",
    "json_config =\"\"\"\n",
    "{\n",
    "    \"algorithmType\": \"pso\",\n",
    "    \"fitness\": \"zakharov\",\n",
    "    \"w\": 0.5,\n",
    "    \"c1\": 0.8,\n",
    "    \"c2\": 0.9,\n",
    "    \"custom_c2\": true,\n",
    "    \"target_error\": 0,\n",
    "    \"iterations\": 2000,\n",
    "    \"n_particles\": 50,\n",
    "    \"arguments_dimensions\": 20,\n",
    "    \"d_min\": -10,\n",
    "    \"d_max\": 10\n",
    "}\"\"\"\n",
    "cfg = json.loads(json_config, object_hook = as_config)\n",
    "App().run()"
   ]
  },
  {
   "cell_type": "markdown",
   "metadata": {},
   "source": [
    "<h4>Korzystając z malejącej wartości składnika socjalnego udało się w badanym przypadku uzyskać poprawę z 62.60 do 47.17.</h4>"
   ]
  },
  {
   "cell_type": "markdown",
   "metadata": {},
   "source": [
    "## \"Particle Swarm Optimization\" vs \"Genetic Algorithm\"\n",
    "Zastosowano algorytmy: PSO oraz GA dla funkcji oznaczonej \"f2\" dla następujących parametrów:\n",
    "<table style=\"width:1000px;font-size:20px;text-align:left;\" >\n",
    "  <tr style=\"text-align:left;\">\n",
    "    <th>Algorytm</th>\n",
    "    <th>Funkcja</th>\n",
    "    <th>Wynik</th>\n",
    "    <th>num_dim</th>\n",
    "    <th>range</th>\n",
    "    <th>particles</th>\n",
    "    <th>W</th>\n",
    "    <th>C1</th> \n",
    "    <th>C2</th>\n",
    "  </tr>\n",
    "  <tr style=\"text-align:left;\">\n",
    "    <th>PSO</th>\n",
    "    <th>F2</th>\n",
    "    <th>863.68</th>\n",
    "    <th>20</th>\n",
    "    <th>&lt;-10, 10&gt; </th>\n",
    "    <th>50</th>\n",
    "    <th>0.5</th>\n",
    "    <th>0.8</th>\n",
    "    <th>0.9</th>\n",
    "  </tr>\n",
    "  <tr style=\"text-align:left;\">\n",
    "    <th>GA</th>\n",
    "    <th>F2</th>\n",
    "    <th>899.17</th>\n",
    "    <th>20</th>\n",
    "    <th>&lt;-10, 10&gt; </th>\n",
    "    <th>50</th>\n",
    "    <th>0.5</th>\n",
    "    <th>0.8</th>\n",
    "    <th>0.9</th>\n",
    "  </tr>\n",
    "  <tr style=\"text-align:left;\">\n",
    "    <th>PSO</th>\n",
    "    <th>Griewank</th>\n",
    "    <th>26.07</th>\n",
    "    <th>20</th>\n",
    "    <th>&lt;-600, 600&gt; </th>\n",
    "    <th>50</th>\n",
    "    <th>0.5</th>\n",
    "    <th>0.8</th>\n",
    "    <th>0.9</th>\n",
    "  </tr>\n",
    "  <tr style=\"text-align:left;\">\n",
    "    <th>GA</th>\n",
    "    <th>Griewank</th>\n",
    "    <th>0</th>\n",
    "    <th>20</th>\n",
    "    <th>&lt;-600, 600&gt; </th>\n",
    "    <th>50</th>\n",
    "    <th>0.5</th>\n",
    "    <th>0.8</th>\n",
    "    <th>0.9</th>\n",
    "  </tr>\n",
    "</table>\n",
    "<p>num_dim - Liczba wymiarów przestrzeni poszukiwań\n",
    "<p>range - Przedział wartości pojedynczego wymiaru</p>"
   ]
  },
  {
   "cell_type": "markdown",
   "metadata": {},
   "source": [
    "### Funkcja \"F2\""
   ]
  },
  {
   "cell_type": "code",
   "execution_count": 200,
   "metadata": {},
   "outputs": [
    {
     "name": "stdout",
     "output_type": "stream",
     "text": [
      "Fitness function value: 863.6844722893944 achieved for arguments_dimensions = 20.\n",
      "The best solution is in: [ 10.           3.05117549  10.          10.         -10.\n",
      "  10.           2.96169799  10.          10.          -0.3492853\n",
      "  10.          -0.48201797  10.          10.          10.\n",
      "  10.          10.          10.          10.          10.        ].\n",
      "Achieved in 375 iterations\n"
     ]
    }
   ],
   "source": [
    "seed = 1\n",
    "from numpy import random as nrand\n",
    "nrand.seed(seed)\n",
    "from random import seed\n",
    "seed(seed)\n",
    "json_config =\"\"\"\n",
    "{\n",
    "    \"algorithmType\": \"pso\",\n",
    "    \"fitness\": \"f2\",\n",
    "    \"w\": 0.5,\n",
    "    \"c1\": 0.8,\n",
    "    \"c2\": 0.9,\n",
    "    \"target_error\": 1e-8,\n",
    "    \"iterations\": 2000,\n",
    "    \"n_particles\": 50,\n",
    "    \"arguments_dimensions\": 20,\n",
    "    \"d_min\": -10,\n",
    "    \"d_max\": 10\n",
    "}\"\"\"\n",
    "cfg = json.loads(json_config, object_hook = as_config)\n",
    "App().run()"
   ]
  },
  {
   "cell_type": "code",
   "execution_count": 201,
   "metadata": {},
   "outputs": [
    {
     "data": {
      "text/plain": [
       "{'gen': 2000,\n",
       " 'nevals': 23,\n",
       " 'avg': 902.6260403509935,\n",
       " 'std': 21.414787742460934,\n",
       " 'min': 899.1747972837709,\n",
       " 'max': 1051.7369506449022}"
      ]
     },
     "execution_count": 201,
     "metadata": {},
     "output_type": "execute_result"
    }
   ],
   "source": [
    "seed = 1\n",
    "from numpy import random as nrand\n",
    "nrand.seed(seed)\n",
    "from random import seed\n",
    "seed(seed)\n",
    "json_config =\"\"\"\n",
    "{\n",
    "    \"algorithmType\": \"ga\",\n",
    "    \"fitness\": \"f2\",\n",
    "    \"w\": 0.5,\n",
    "    \"c1\": 0.8,\n",
    "    \"c2\": 0.9,\n",
    "    \"target_error\": 0,\n",
    "    \"iterations\": 2000,\n",
    "    \"n_particles\": 50,\n",
    "    \"arguments_dimensions\": 20,\n",
    "    \"d_min\": -10,\n",
    "    \"d_max\": 10\n",
    "}\"\"\"\n",
    "cfg = json.loads(json_config, object_hook = as_config)\n",
    "App().run()"
   ]
  },
  {
   "cell_type": "markdown",
   "metadata": {},
   "source": [
    "### Funkcja \"Griewank\""
   ]
  },
  {
   "cell_type": "code",
   "execution_count": 202,
   "metadata": {},
   "outputs": [
    {
     "name": "stdout",
     "output_type": "stream",
     "text": [
      "Fitness function value: 26.071892593564776 achieved for arguments_dimensions = 20.\n",
      "The best solution is in: [  84.33067941    6.05841196  -87.4386228    70.15562891   55.00432473\n",
      "   29.71836905    3.59683962  150.95213716   13.79839486  -12.45236875\n",
      "   17.12842152  -67.08823622  -59.93865732  135.42280788  -10.27577556\n",
      "    9.95351664  -17.11382024 -108.92291948    6.03422949  119.97466975].\n",
      "Achieved in 8 iterations\n"
     ]
    }
   ],
   "source": [
    "seed = 0\n",
    "from numpy import random as nrand\n",
    "nrand.seed(seed)\n",
    "from random import seed\n",
    "seed(seed)\n",
    "json_config =\"\"\"\n",
    "{\n",
    "    \"algorithmType\": \"pso\",\n",
    "    \"fitness\": \"griewank\",\n",
    "    \"w\": 0.5,\n",
    "    \"c1\": 0.8,\n",
    "    \"c2\": 0.9,\n",
    "    \"target_error\": 1e-8,\n",
    "    \"iterations\": 2000,\n",
    "    \"n_particles\": 50,\n",
    "    \"arguments_dimensions\": 20,\n",
    "    \"d_min\": -600,\n",
    "    \"d_max\": 600\n",
    "}\"\"\"\n",
    "cfg = json.loads(json_config, object_hook = as_config)\n",
    "App().run()"
   ]
  },
  {
   "cell_type": "code",
   "execution_count": 203,
   "metadata": {},
   "outputs": [
    {
     "data": {
      "text/plain": [
       "{'gen': 2000,\n",
       " 'nevals': 23,\n",
       " 'avg': 0.004274253959698218,\n",
       " 'std': 0.019219458920622365,\n",
       " 'min': 0.0,\n",
       " 'max': 0.12266743810962721}"
      ]
     },
     "execution_count": 203,
     "metadata": {},
     "output_type": "execute_result"
    }
   ],
   "source": [
    "seed = 1\n",
    "from numpy import random as nrand\n",
    "nrand.seed(seed)\n",
    "from random import seed\n",
    "seed(seed)\n",
    "json_config =\"\"\"\n",
    "{\n",
    "    \"algorithmType\": \"ga\",\n",
    "    \"fitness\": \"griewank\",\n",
    "    \"w\": 0.5,\n",
    "    \"c1\": 0.8,\n",
    "    \"c2\": 0.9,\n",
    "    \"target_error\": 0.1,\n",
    "    \"iterations\": 2000,\n",
    "    \"n_particles\": 50,\n",
    "    \"arguments_dimensions\": 20,\n",
    "    \"d_min\": -600,\n",
    "    \"d_max\": 600\n",
    "}\"\"\"\n",
    "cfg = json.loads(json_config, object_hook = as_config)\n",
    "App().run()"
   ]
  },
  {
   "cell_type": "markdown",
   "metadata": {},
   "source": [
    "<h1><center>Wnioski</center></h1>\n",
    "<p>\n",
    "<ul style=\"text-align: justify;text-justify: inter-word\">\n",
    "    <li>Znalezienie optymalnych wartości parametrów konfiguracyjnych współczynników kognitywnego, \n",
    "    socjalnego oraz redukcji prędkości ma drastyczny wpływ na jakość rozwiązania. Dlatego też, powinna być przeprowadzana staranna analiza mająca na celu dobór odpowiednich wartości\n",
    "    do konkretnego rozwiązywanego problemu. Jednocześnie, heurystyczne metody pozwalające oszacować wstępnie odpowiednie wartości mogą okazać się bardzo przydatne.</li>\n",
    "    <li>Dla funkcji F2 oraz Griewank lepsze efekty osiągnięto z wykorzystaniem odpowiednio algorytmu PSO oraz genetycznego.  Zatem dobór odpowiedniej metody optymalizacji również powinien być przeprowadzany z uwzględnieniem rozwiązywanego problemu.</li>\n",
    "    <li>Z wykorzystaniem metody malejącej wartości składnika socjalnego udało się uzyskać istotną poprawę wyniku dla badanego problemu.</li>\n",
    "</ul>\n",
    "</p>"
   ]
  }
 ],
 "metadata": {
  "kernelspec": {
   "display_name": "Python 3",
   "language": "python",
   "name": "python3"
  },
  "language_info": {
   "codemirror_mode": {
    "name": "ipython",
    "version": 3
   },
   "file_extension": ".py",
   "mimetype": "text/x-python",
   "name": "python",
   "nbconvert_exporter": "python",
   "pygments_lexer": "ipython3",
   "version": "3.7.6"
  }
 },
 "nbformat": 4,
 "nbformat_minor": 4
}
