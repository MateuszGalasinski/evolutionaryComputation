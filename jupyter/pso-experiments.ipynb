{
 "cells": [
  {
   "cell_type": "markdown",
   "metadata": {},
   "source": [
    "# Sprawozdanie z **Obliczeń ewolucyjnych**\n",
    "## Zadanie 1 - Algorytm *Particle Swarm Optimization*"
   ]
  },
  {
   "cell_type": "markdown",
   "metadata": {},
   "source": [
    "# Configuration\n",
    "Przy pomocy klasy Config można wybrać zastosowany algorytm oraz określić jego parametry:    \n",
    "- w - współczynnik zmęczenia.   \n",
    "- c1 - współczynnik przyspieszenia w kierunku własnego minimum cząstki\n",
    "- c2 - współczynnik przyspieszenia w kierunku globalnego minimum cząstek\n",
    "- iterations - ilość iteracji algorytmu  \n",
    "- target_error - najniższy stopień błędu - po osiągnięciu tego wyniku algorytm zatrzymuje się  \n",
    "- n_particles - ilość cząstek  \n",
    "- arguments_dimensions - liczba wymiarów, w których rozkładane są cząsteczki   \n",
    "- d_min - minimalna wartość współrzędnej dla każdego z wymiarów   \n",
    "- d_max - maksymalna wartość współrzędnej dla każdego z wymiarów   \n",
    "- fitness - wybór funkcji dostosowującej położenie cząstek         \n",
    " Dla celów badawczych, w dalszej części zaprezentowane są różne zestawy wartości konfiguracyjnych."
   ]
  },
  {
   "cell_type": "code",
   "execution_count": 166,
   "metadata": {},
   "outputs": [],
   "source": [
    "!pip install deap k3d > /dev/null\n",
    "from pathlib import Path\n",
    "import json\n",
    "\n",
    "class Config(object):\n",
    "    def __init__(self, algorithmType, w, c1, c2, custom_c2, iterations, target_error, n_particles, arguments_dimensions, d_min, d_max, fitness):\n",
    "        self.algorithmType = algorithmType\n",
    "        self.w = w\n",
    "        self.c1 = c1\n",
    "        self.c2 = c2\n",
    "        self.custom_c2 = custom_c2\n",
    "        self.iterations = iterations\n",
    "        self.target_error = target_error\n",
    "        self.n_particles = n_particles\n",
    "        self.arguments_dimensions = arguments_dimensions\n",
    "        self.d_min = d_min\n",
    "        self.d_max = d_max\n",
    "        self.d_max = d_max\n",
    "        self.fitness = fitness\n",
    "\n",
    "def as_config(dct):\n",
    "    return Config(\n",
    "        dct['algorithmType'],\n",
    "        dct['w'],\n",
    "        dct['c1'],\n",
    "        dct['c2'],\n",
    "        dct['custom_c2'] if dct.get('custom_c2') else False,\n",
    "        dct['iterations'], \n",
    "        dct['target_error'], \n",
    "        dct['n_particles'],\n",
    "        dct['arguments_dimensions'],\n",
    "        dct['d_min'], \n",
    "        dct['d_max'],\n",
    "        dct['fitness']\n",
    "        )"
   ]
  },
  {
   "cell_type": "markdown",
   "metadata": {},
   "source": [
    "# Genetic algorithm using deap\n",
    "W celu porównania samodzielnie zaimplementowanego algorytmu PSO do algorytmów genetycznych, poniżej zaimplementowano funkcję zwracające wyniki działania tego algorytmu z wykorzystaniem biblioteki \"deap\".  "
   ]
  },
  {
   "cell_type": "code",
   "execution_count": 168,
   "metadata": {},
   "outputs": [],
   "source": [
    "import random\n",
    "import numpy\n",
    "import inspect\n",
    "from deap import algorithms, base, creator, tools\n",
    "\n",
    "# translates into tuple\n",
    "def gaFitness(individual):\n",
    "    return fitness(individual),\n",
    "\n",
    "def cxTwoPointCopy(ind1, ind2):\n",
    "    size = len(ind1)\n",
    "    cxpoint1 = random.randint(1, size)\n",
    "    cxpoint2 = random.randint(1, size - 1)\n",
    "    if cxpoint2 >= cxpoint1:\n",
    "        cxpoint2 += 1\n",
    "    else: # Swap the two cx points\n",
    "        cxpoint1, cxpoint2 = cxpoint2, cxpoint1\n",
    "\n",
    "    ind1[cxpoint1:cxpoint2], ind2[cxpoint1:cxpoint2] \\\n",
    "        = ind2[cxpoint1:cxpoint2].copy(), ind1[cxpoint1:cxpoint2].copy()\n",
    "        \n",
    "    return ind1, ind2\n",
    "\n",
    "def genetic():\n",
    "    creator.create(\"FitnessMin\", base.Fitness, weights=(-1.0,))\n",
    "    creator.create(\"Individual\", numpy.ndarray, fitness=creator.FitnessMin)\n",
    "\n",
    "    toolbox = base.Toolbox()\n",
    "    toolbox.register(\"attr_bool\", lambda: (cfg.d_max-cfg.d_min)*random.random() + cfg.d_min)\n",
    "    toolbox.register(\"individual\", tools.initRepeat, creator.Individual, toolbox.attr_bool, n=cfg.arguments_dimensions)\n",
    "    toolbox.register(\"population\", tools.initRepeat, list, toolbox.individual)\n",
    "    toolbox.register(\"evaluate\", gaFitness)\n",
    "    toolbox.register(\"mate\", cxTwoPointCopy)\n",
    "    toolbox.register(\"mutate\", tools.mutFlipBit, indpb=0.05)\n",
    "    toolbox.register(\"select\", tools.selTournament, tournsize=3)\n",
    "    pop = toolbox.population(n=cfg.n_particles)\n",
    "    hof = tools.HallOfFame(1, similar=numpy.array_equal)\n",
    "    \n",
    "    stats = tools.Statistics(lambda ind: ind.fitness.values)\n",
    "    stats.register(\"avg\", numpy.mean)\n",
    "    stats.register(\"std\", numpy.std)\n",
    "    stats.register(\"min\", numpy.min)\n",
    "    stats.register(\"max\", numpy.max)\n",
    "    \n",
    "    algorithms.eaSimple(pop, toolbox, cxpb=0.5, mutpb=0.2, ngen=cfg.iterations, stats=stats, halloffame=hof)\n",
    "\n",
    "    return pop, stats, hof"
   ]
  },
  {
   "cell_type": "markdown",
   "metadata": {},
   "source": [
    "# Particle swarm algorithm classes\n",
    "Poniżej przedstawione są klasy repezentujące \"rój\"\n",
    "### Particle\n",
    "Klasa reprezentacja jedną cząsteczkę w przestrzeni poszukiwań:  \n",
    "- position - pozycja w przestrzeni zdefiniowanej w pliku konfiguracyjnym. \n",
    "- pbest_position - najlepsza pozycja cząsteczki\n",
    "- pbest_value - najlepsza osiągnięta przez tę czastęczkę wartość\n",
    "- velocity - wektor, który przechowuje informacje nt. tzw prędkości cząsteczki.  \n",
    "### Space\n",
    "Klasa reprezentująca przestrzeń poszukiwań, w której poruszają się cząsteczki\n",
    "- particles[] - tablica cząsteczek\n",
    "- gbest_position - globalnie najlepsza pozycja cząsteczki - inicjowana losowo \n",
    "- gbest_value - najlepsza wartość funkcji przystosowania dowolnej z cząsteczek"
   ]
  },
  {
   "cell_type": "code",
   "execution_count": 169,
   "metadata": {},
   "outputs": [],
   "source": [
    "import random\n",
    "import numpy as np\n",
    "\n",
    "class Particle():\n",
    "    def __init__(self):\n",
    "        self.position = (cfg.d_max - cfg.d_min) * np.random.random(cfg.arguments_dimensions) + cfg.d_min\n",
    "        self.pbest_position = self.position\n",
    "        self.pbest_value = float('inf')\n",
    "        self.velocity = np.zeros(cfg.arguments_dimensions)\n",
    "    \n",
    "    def move(self):\n",
    "        self.position = self.position + self.velocity\n",
    "        for i in range(len(self.position)):\n",
    "            if self.position[i] > cfg.d_max:\n",
    "                self.position[i] = cfg.d_max\n",
    "            if self.position[i] < cfg.d_min:\n",
    "                self.position[i] = cfg.d_min\n",
    "\n",
    "    def __str__(self):\n",
    "        print(f'My position is {self.position}, my pbest is {self.pbest_position}')\n",
    "\n",
    "class Space():\n",
    "    def __init__(self):\n",
    "        self.particles = []\n",
    "        self.gbest_value = float('inf')\n",
    "        self.gbest_position = np.array([x * np.random.random_sample()*cfg.d_max for x in range(cfg.arguments_dimensions)])\n",
    "\n",
    "    def print_particles(self):\n",
    "        for particle in self.particles:\n",
    "            particle.__str__()\n",
    "\n",
    "    def set_pbest(self):\n",
    "        for particle in self.particles:\n",
    "            fitness_cadidate:float = fitness(particle.position)\n",
    "            if(particle.pbest_value > fitness_cadidate):\n",
    "                particle.pbest_value = fitness_cadidate\n",
    "                particle.pbest_position = particle.position\n",
    "\n",
    "    def set_gbest(self):\n",
    "        for particle in self.particles:\n",
    "            best_fitness_cadidate = fitness(particle.position)\n",
    "            if(self.gbest_value > best_fitness_cadidate):\n",
    "                self.gbest_value = best_fitness_cadidate\n",
    "                self.gbest_position = particle.position\n",
    "\n",
    "    def move_particles(self):\n",
    "        for particle in self.particles:\n",
    "            new_velocity = (cfg.w*particle.velocity) + (cfg.c1*np.random.random_sample()) * (particle.pbest_position - particle.position) + \\\n",
    "                            (np.random.random_sample()*cfg.c2) * (self.gbest_position - particle.position)\n",
    "            particle.velocity = new_velocity\n",
    "            particle.move()\n"
   ]
  },
  {
   "cell_type": "markdown",
   "metadata": {},
   "source": [
    "# Plots\n",
    "Wykorzystano bibliotekę k3d w celu przedstawienia trójwymiarowych wykresów \"roju\", tam gdzie było to możliwe."
   ]
  },
  {
   "cell_type": "code",
   "execution_count": 170,
   "metadata": {},
   "outputs": [],
   "source": [
    "from numpy import exp,array,float32\n",
    "import k3d\n",
    "from uuid import uuid4\n",
    "\n",
    "def plot_particles(particles):\n",
    "    if len(particles) == 0:\n",
    "        print(\"No particles to visualize !\")\n",
    "        return\n",
    "    if len(particles[0].position) != 2:\n",
    "        print(\"I can only visualize three dimensional function !\")\n",
    "        return\n",
    "    x = list(map(lambda p: (p.position[0], p.position[1], fitness(p.position)), particles))\n",
    "    \n",
    "    plot = k3d.plot(name=str(uuid4()))\n",
    "    plt_points = k3d.points(positions=x, point_size=0.2)\n",
    "    plot += plt_points\n",
    "    plt_points.shader='3d'\n",
    "    plot.display()"
   ]
  },
  {
   "cell_type": "markdown",
   "metadata": {},
   "source": [
    "# Fitness functions\n",
    "Poniższa sekcja przestawia funkcje dostosowania cząsteczek:  \n",
    "Sphere\n",
    "![title](pics/sphere.png)\n",
    "F2\n",
    "![title](pics/f2.png)\n",
    "Griewank\n",
    "![title](pics/griewank.png)   \n",
    "Rosenbrock\n",
    "![title](pics/rosen.png)   \n",
    "Schwefel\n",
    "![title](pics/schwefel.png)   \n",
    "Zakharov\n",
    "![title](pics/zakharov.png)   "
   ]
  },
  {
   "cell_type": "code",
   "execution_count": 193,
   "metadata": {},
   "outputs": [],
   "source": [
    "from numpy import sum, asarray_chkfinite, arange, prod, sqrt, cos, sin\n",
    "from functools import reduce\n",
    "def fitness(position, fr=4000):\n",
    "    if cfg.fitness == \"sincos\":\n",
    "        return sin(position[0]) + cos(position[1])\n",
    "    if cfg.fitness == \"sincos2\":\n",
    "        return sin(position[0]) + cos(position[1]) + position[0] + position[1]\n",
    "    elif cfg.fitness == \"sphere\":\n",
    "        return reduce(lambda p,n: p + n**2, position)\n",
    "    elif cfg.fitness == \"rosen\":\n",
    "        return sum(100.0*(position[1:]-position[:-1]**2.0)**2.0 + (position[:-1]-1)**2.0)\n",
    "    elif cfg.fitness == \"griewank\":\n",
    "        n = len(position)\n",
    "        j = arange( 1., n+1 )\n",
    "        s = sum( position**2 )\n",
    "        p = prod( cos( position / sqrt(j) ))\n",
    "        return s/fr - p + 1\n",
    "    elif cfg.fitness == \"zakharov\":\n",
    "        x = np.asarray_chkfinite(position)\n",
    "        n = len(x)\n",
    "        j = np.arange( 1., n+1 )\n",
    "        s2 = sum( j * x ) / 2\n",
    "        return sum( x**2 ) + s2**2 + s2**4\n",
    "    elif cfg.fitness == \"f2\":\n",
    "        s = 0\n",
    "        for x in range(1, len(position)):\n",
    "            s = s + (position[x]-x)**2\n",
    "        return s\n",
    "    elif cfg.fitness == \"serduszko\":\n",
    "        x, y = position[0], position[1]\n",
    "        return -80/(-80*x**2 - 9*y**2) + (-41472000*x**6 - 102643200*x**4*y**2 + 41472000*x**4 - 21520080*x**2*y**4 + 9331200*x**2*y**2 + sqrt((-41472000*x**6 - 102643200*x**4*y**2 + 41472000*x**4 - 21520080*x**2*y**4 + 9331200*x**2*y**2 - 1180980*y**6 + 524880*y**4 - 27648000)**2 - 764411904000000) - 1180980*y**6 + 524880*y**4 - 27648000)**(1/3)/(3*2**(1/3)*(-80*x**2 - 9*y**2)) + (19200*2**(1/3)/((-80*x**2 - 9*y**2)*(-41472000*x**6 - 102643200*x**4*y**2 + 41472000*x**4 - 21520080*x**2*y**4 + 9331200*x**2*y**2 + sqrt((-41472000*x**6 - 102643200*x**4*y**2 + 41472000*x**4 - 21520080*x**2*y**4 + 9331200*x**2*y**2 - 1180980*y**6 + 524880*y**4 - 27648000)**2 - 764411904000000) - 1180980*y**6 + 524880*y**4 - 27648000)**(1/3)))"
   ]
  },
  {
   "cell_type": "markdown",
   "metadata": {},
   "source": [
    "# App\n",
    "Pętla programowa odpowiedzialna za wywoływanie logiki wybranego algorytmu PSO lub GA."
   ]
  },
  {
   "cell_type": "code",
   "execution_count": 172,
   "metadata": {},
   "outputs": [],
   "source": [
    "import numpy as np\n",
    "class App():\n",
    "    def run(self):\n",
    "        if(cfg.algorithmType == \"pso\"):\n",
    "            c2_begin = cfg.c2\n",
    "            search_space = Space()\n",
    "            particles_vector = [Particle() for _ in range(cfg.n_particles)]\n",
    "            search_space.particles = particles_vector\n",
    "            plot_particles(search_space.particles)            \n",
    "#             search_space.print_particles()\n",
    "            iteration = 0\n",
    "            while iteration < cfg.iterations:\n",
    "                if cfg.custom_c2 == True:\n",
    "                    search_space.c2 = c2_begin * ((cfg.iterations - iteration)/cfg.iterations)\n",
    "                last_gbest = search_space.gbest_value\n",
    "                search_space.set_pbest()\n",
    "                search_space.set_gbest()\n",
    "                search_space.move_particles()\n",
    "                iteration += 1\n",
    "                if abs(last_gbest - search_space.gbest_value) < cfg.target_error:\n",
    "                    break\n",
    "            print(\"The best solution is: \", np.append(search_space.gbest_position, fitness(search_space.gbest_position)), \" in n_iterations: \", iteration)\n",
    "            plot_particles(search_space.particles)\n",
    "#             search_space.print_particles()\n",
    "        elif(cfg.algorithmType == \"ga\"):\n",
    "            genetic()\n",
    "\n",
    "        else:\n",
    "            print(f\"Unknown algorithm type: {cfg.algorithmType}\")"
   ]
  },
  {
   "cell_type": "markdown",
   "metadata": {},
   "source": [
    "### Set seeds"
   ]
  },
  {
   "cell_type": "code",
   "execution_count": 187,
   "metadata": {},
   "outputs": [],
   "source": [
    "from numpy import random as nrand\n",
    "nrand.seed(0)\n",
    "from random import seed\n",
    "seed(0)"
   ]
  },
  {
   "cell_type": "markdown",
   "metadata": {},
   "source": [
    "# Badania\n",
    "Przeprowadzono eksperyment uruchomień algorytmu dla różnych zestawów parametrów konfiguracyjnych. Poniżej przedstawiono poszczególne przykłady wraz z wynikami w postaci wykresów 3D lub najlepszego osiągniętego wyniku."
   ]
  },
  {
   "cell_type": "markdown",
   "metadata": {},
   "source": [
    "### Funkcja *Sphere*"
   ]
  },
  {
   "cell_type": "code",
   "execution_count": 194,
   "metadata": {},
   "outputs": [
    {
     "name": "stderr",
     "output_type": "stream",
     "text": [
      "/opt/conda/lib/python3.7/site-packages/ipykernel_launcher.py:31: RuntimeWarning: invalid value encountered in double_scalars\n",
      "/opt/conda/lib/python3.7/site-packages/ipykernel_launcher.py:31: RuntimeWarning: invalid value encountered in sqrt\n"
     ]
    },
    {
     "data": {
      "application/vnd.jupyter.widget-view+json": {
       "model_id": "3f3614896fa04ac8b6c224e6cd0d76b1",
       "version_major": 2,
       "version_minor": 0
      },
      "text/plain": [
       "Output()"
      ]
     },
     "metadata": {},
     "output_type": "display_data"
    },
    {
     "name": "stdout",
     "output_type": "stream",
     "text": [
      "The best solution is:  [ 0.0000  4.7247     nan]  in n_iterations:  300\n"
     ]
    },
    {
     "data": {
      "application/vnd.jupyter.widget-view+json": {
       "model_id": "3129628052da40a7ad5af32979f7a6e0",
       "version_major": 2,
       "version_minor": 0
      },
      "text/plain": [
       "Output()"
      ]
     },
     "metadata": {},
     "output_type": "display_data"
    }
   ],
   "source": [
    "json_config =\"\"\"\n",
    "{\n",
    "    \"algorithmType\": \"pso\",\n",
    "    \"fitness\": \"serduszko\",\n",
    "    \"w\": 0.5,\n",
    "    \"c1\": 0.8,\n",
    "    \"c2\": 0.9,\n",
    "    \"target_error\": 1e-8,\n",
    "    \"iterations\": 300,\n",
    "    \"n_particles\": 100,\n",
    "    \"arguments_dimensions\": 2,\n",
    "    \"d_min\": -10,\n",
    "    \"d_max\": 10\n",
    "}\"\"\"\n",
    "cfg = json.loads(json_config, object_hook = as_config)\n",
    "App().run()"
   ]
  },
  {
   "cell_type": "code",
   "execution_count": 174,
   "metadata": {
    "scrolled": true
   },
   "outputs": [
    {
     "data": {
      "application/vnd.jupyter.widget-view+json": {
       "model_id": "1c3d60f5bc4a46e38152a6618c40296e",
       "version_major": 2,
       "version_minor": 0
      },
      "text/plain": [
       "Output()"
      ]
     },
     "metadata": {},
     "output_type": "display_data"
    },
    {
     "name": "stdout",
     "output_type": "stream",
     "text": [
      "The best solution is:  [-1.5708  3.1416 -2.0000]  in n_iterations:  400\n"
     ]
    },
    {
     "data": {
      "application/vnd.jupyter.widget-view+json": {
       "model_id": "268dc4e2fdf54a11abd097554208e9c5",
       "version_major": 2,
       "version_minor": 0
      },
      "text/plain": [
       "Output()"
      ]
     },
     "metadata": {},
     "output_type": "display_data"
    }
   ],
   "source": [
    "json_config =\"\"\"\n",
    "{\n",
    "    \"algorithmType\": \"pso\",\n",
    "    \"fitness\": \"sincos\",\n",
    "    \"w\": 0.6,\n",
    "    \"c1\": 0.2,\n",
    "    \"c2\": 0.4,\n",
    "    \"custom_c2\": true,\n",
    "    \"target_error\": 0,\n",
    "    \"iterations\": 400,\n",
    "    \"n_particles\": 1000,\n",
    "    \"arguments_dimensions\": 2,\n",
    "    \"d_min\": -10,\n",
    "    \"d_max\": 10\n",
    "}\"\"\"\n",
    "cfg = json.loads(json_config, object_hook = as_config)\n",
    "App().run()"
   ]
  },
  {
   "cell_type": "code",
   "execution_count": 188,
   "metadata": {},
   "outputs": [
    {
     "name": "stdout",
     "output_type": "stream",
     "text": [
      "I can only visualize three dimensional function !\n",
      "The best solution is:  [ 0.1668  0.2322 -0.4056 -0.0048  0.4179 -0.7187  0.1097  0.0626  0.0667\n",
      "  0.1152 -0.2649  0.3112 -0.0218  0.2691 -0.5545  0.1036 -1.1605 -0.3083\n",
      "  0.6554  0.7634  4.0032]  in n_iterations:  69\n",
      "I can only visualize three dimensional function !\n"
     ]
    }
   ],
   "source": [
    "json_config =\"\"\"\n",
    "{\n",
    "    \"algorithmType\": \"pso\",\n",
    "    \"fitness\": \"zakharov\",\n",
    "    \"w\": 0.5,\n",
    "    \"c1\": 0.7,\n",
    "    \"c2\": 0.8,\n",
    "    \"custom_c2\": false,\n",
    "    \"target_error\": 0.001,\n",
    "    \"iterations\": 200,\n",
    "    \"n_particles\": 1600,\n",
    "    \"arguments_dimensions\": 20,\n",
    "    \"d_min\": -10,\n",
    "    \"d_max\": 10\n",
    "}\"\"\"\n",
    "cfg = json.loads(json_config, object_hook = as_config)\n",
    "App().run()"
   ]
  }
 ],
 "metadata": {
  "kernelspec": {
   "display_name": "Python 3",
   "language": "python",
   "name": "python3"
  },
  "language_info": {
   "codemirror_mode": {
    "name": "ipython",
    "version": 3
   },
   "file_extension": ".py",
   "mimetype": "text/x-python",
   "name": "python",
   "nbconvert_exporter": "python",
   "pygments_lexer": "ipython3",
   "version": "3.7.6"
  }
 },
 "nbformat": 4,
 "nbformat_minor": 4
}
