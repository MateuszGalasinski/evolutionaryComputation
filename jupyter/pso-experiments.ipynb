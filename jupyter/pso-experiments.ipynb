{
 "cells": [
  {
   "cell_type": "markdown",
   "metadata": {},
   "source": [
    "## install additional packages"
   ]
  },
  {
   "cell_type": "code",
   "execution_count": 36,
   "metadata": {},
   "outputs": [],
   "source": [
    "!pip install deap k3d > /dev/null"
   ]
  },
  {
   "cell_type": "markdown",
   "metadata": {},
   "source": [
    "# Configuration\n",
    "W tej sekcji można wybrać preferowany algorytm oraz określić jego parametry:\n",
    "    c1\n",
    "    c2\n",
    "    iterations\n",
    "    target_error\n",
    "    n_particles\n",
    "    arguments_dimensions\n",
    "    d_min\n",
    "    d_max\n",
    "    d_max\n",
    "    fitness\n",
    "Dla celi badawczych, w dalszej części wybrana jest pętla uruchamiająca różnie dostosowane algorytmy."
   ]
  },
  {
   "cell_type": "code",
   "execution_count": 6,
   "metadata": {},
   "outputs": [],
   "source": [
    "from pathlib import Path\n",
    "import json\n",
    "\n",
    "class Config(object):\n",
    "    def __init__(self, algorithmType, w, c1, c2, iterations, target_error, n_particles, arguments_dimensions, d_min, d_max, fitness):\n",
    "        self.algorithmType = algorithmType\n",
    "        self.w = w\n",
    "        self.c1 = c1\n",
    "        self.c2 = c2\n",
    "        self.iterations = iterations\n",
    "        self.target_error = target_error\n",
    "        self.n_particles = n_particles\n",
    "        self.arguments_dimensions = arguments_dimensions\n",
    "        self.d_min = d_min\n",
    "        self.d_max = d_max\n",
    "        self.d_max = d_max\n",
    "        self.fitness = fitness\n",
    "\n",
    "\n",
    "def as_config(dct):\n",
    "    return Config(\n",
    "        dct['algorithmType'],\n",
    "        dct['w'],\n",
    "        dct['c1'],\n",
    "        dct['c2'],\n",
    "        dct['iterations'], \n",
    "        dct['target_error'], \n",
    "        dct['n_particles'],\n",
    "        dct['arguments_dimensions'],\n",
    "        dct['d_min'], \n",
    "        dct['d_max'],\n",
    "        dct['fitness']\n",
    "        )"
   ]
  },
  {
   "cell_type": "markdown",
   "metadata": {},
   "source": [
    "# Genetic algorithm using deap\n",
    "W celu porównania samodzielnie zaimplementowanego algorytmu PSO do algorytmów genetycznych, poniżej są zaimplementowane funkcje zwracające wyniki działania tego algorytmu:\n",
    "### cxTwoPointCopy(ind1, ind2)\n",
    "To funkcja \n",
    "\n",
    "### genetic():\n",
    "Wynikiem działania algorytmu jest: \n"
   ]
  },
  {
   "cell_type": "code",
   "execution_count": 7,
   "metadata": {},
   "outputs": [],
   "source": [
    "import random\n",
    "import numpy\n",
    "import inspect\n",
    "from deap import algorithms, base, creator, tools\n",
    "\n",
    "# translates into tuple\n",
    "def gaFitness(individual):\n",
    "    return fitness(individual),\n",
    "\n",
    "def cxTwoPointCopy(ind1, ind2):\n",
    "    size = len(ind1)\n",
    "    cxpoint1 = random.randint(1, size)\n",
    "    cxpoint2 = random.randint(1, size - 1)\n",
    "    if cxpoint2 >= cxpoint1:\n",
    "        cxpoint2 += 1\n",
    "    else: # Swap the two cx points\n",
    "        cxpoint1, cxpoint2 = cxpoint2, cxpoint1\n",
    "\n",
    "    ind1[cxpoint1:cxpoint2], ind2[cxpoint1:cxpoint2] \\\n",
    "        = ind2[cxpoint1:cxpoint2].copy(), ind1[cxpoint1:cxpoint2].copy()\n",
    "        \n",
    "    return ind1, ind2\n",
    "\n",
    "def genetic():\n",
    "    creator.create(\"FitnessMin\", base.Fitness, weights=(-1.0,))\n",
    "    creator.create(\"Individual\", numpy.ndarray, fitness=creator.FitnessMin)\n",
    "\n",
    "    toolbox = base.Toolbox()\n",
    "    toolbox.register(\"attr_bool\", lambda: random.random()*cfg.d_max)\n",
    "    toolbox.register(\"individual\", tools.initRepeat, creator.Individual, toolbox.attr_bool, n=cfg.arguments_dimensions)\n",
    "    toolbox.register(\"population\", tools.initRepeat, list, toolbox.individual)\n",
    "    toolbox.register(\"evaluate\", gaFitness)\n",
    "    toolbox.register(\"mate\", cxTwoPointCopy)\n",
    "    toolbox.register(\"mutate\", tools.mutFlipBit, indpb=0.05)\n",
    "    toolbox.register(\"select\", tools.selTournament, tournsize=3)\n",
    "    pop = toolbox.population(n=cfg.n_particles)\n",
    "    hof = tools.HallOfFame(1, similar=numpy.array_equal)\n",
    "    \n",
    "    stats = tools.Statistics(lambda ind: ind.fitness.values)\n",
    "    stats.register(\"avg\", numpy.mean)\n",
    "    stats.register(\"std\", numpy.std)\n",
    "    stats.register(\"min\", numpy.min)\n",
    "    stats.register(\"max\", numpy.max)\n",
    "    \n",
    "    algorithms.eaSimple(pop, toolbox, cxpb=0.5, mutpb=0.2, ngen=cfg.iterations, stats=stats, halloffame=hof)\n",
    "\n",
    "    return pop, stats, hof"
   ]
  },
  {
   "cell_type": "markdown",
   "metadata": {},
   "source": [
    "# Particle swarm algorithm classes\n",
    "\n",
    "Poniżej przedstawione są klasy roju:\n",
    "### Particle\n",
    "Klasa reprezentacja jedną cząsteczkę w przestrzeni\n",
    "\n",
    "atrybuty\n",
    "    position - pozycja w przestrzeni zdefiniowanej w pliku konfiguracyjnym. \n",
    "    pbest_position - najlepsza pozycja cząsteczki\n",
    "    pbest_value - ???\n",
    "    velocity - wektor, który przetrzymuje informacje nt. tzw prędkości cząsteczki.\n",
    "\n",
    "    \n",
    "### Space\n",
    "Klasa reprezentująca przestrzeń, w której poruszają się cząsteczki\n",
    "    target - ???\n",
    "    particles[] - tablica cząsteczek\n",
    "    gbest_position - globalnie najlepsza pozycja cząsteczki (początkowo losowana \n",
    "    gbest_value - ogólna najlepsza wartość ???"
   ]
  },
  {
   "cell_type": "code",
   "execution_count": 17,
   "metadata": {},
   "outputs": [],
   "source": [
    "import random\n",
    "import numpy as np\n",
    "\n",
    "class Particle():\n",
    "    def __init__(self):\n",
    "        self.position = np.array([(-1) ** (bool(random.getrandbits(1))) * random.random()*cfg.d_max, (-1)**(bool(random.getrandbits(1))) * random.random()*cfg.d_max])\n",
    "        self.pbest_position = self.position\n",
    "        self.pbest_value = float('inf')\n",
    "        self.velocity = np.array([0,0])\n",
    "    \n",
    "    def move(self):\n",
    "        self.position = self.position + self.velocity\n",
    "        for i in range(len(self.position)):\n",
    "            if self.position[i] > cfg.d_max:\n",
    "                self.position[i] = cfg.d_max\n",
    "            if self.position[i] < cfg.d_min:\n",
    "                self.position[i] = cfg.d_min\n",
    "\n",
    "    def __str__(self):\n",
    "        print(f'My position is {self.position}, my pbest is {self.pbest_position}')\n",
    "\n",
    "class Space():\n",
    "    def __init__(self, target):\n",
    "        self.target = target\n",
    "        self.particles = []\n",
    "        self.gbest_value = float('inf')\n",
    "        self.gbest_position = np.array([x * np.random.random_sample()*cfg.d_max for x in range(cfg.arguments_dimensions)])\n",
    "\n",
    "    def print_particles(self):\n",
    "        for particle in self.particles:\n",
    "            particle.__str__()\n",
    "\n",
    "    def set_pbest(self):\n",
    "        for particle in self.particles:\n",
    "            fitness_cadidate:float = fitness(particle.position)\n",
    "            if(particle.pbest_value > fitness_cadidate):\n",
    "                particle.pbest_value = fitness_cadidate\n",
    "                particle.pbest_position = particle.position\n",
    "            \n",
    "\n",
    "    def set_gbest(self):\n",
    "        for particle in self.particles:\n",
    "            best_fitness_cadidate = fitness(particle.position)\n",
    "            if(self.gbest_value > best_fitness_cadidate):\n",
    "                self.gbest_value = best_fitness_cadidate\n",
    "                self.gbest_position = particle.position\n",
    "\n",
    "    def move_particles(self):\n",
    "        for particle in self.particles:\n",
    "            new_velocity = (cfg.w*particle.velocity) + (cfg.c1*np.random.random_sample()) * (particle.pbest_position - particle.position) + \\\n",
    "                            (np.random.random_sample()*cfg.c2) * (self.gbest_position - particle.position)\n",
    "            particle.velocity = new_velocity\n",
    "            particle.move()\n"
   ]
  },
  {
   "cell_type": "markdown",
   "metadata": {},
   "source": [
    "# Plots"
   ]
  },
  {
   "cell_type": "code",
   "execution_count": 18,
   "metadata": {},
   "outputs": [],
   "source": [
    "from numpy import exp,array,float32\n",
    "import k3d\n",
    "from uuid import uuid4\n",
    "\n",
    "def plot_particles(particles):\n",
    "    if len(particles) == 0:\n",
    "        print(\"No particles to visualize !\")\n",
    "        return\n",
    "    if len(particles[0].position) != 2:\n",
    "        print(\"I can only visualize three dimensional function !\")\n",
    "        return\n",
    "    x = list(map(lambda p: (p.position[0], p.position[1], fitness(p.position)), particles))\n",
    "    \n",
    "    plot = k3d.plot(name=str(uuid4()))\n",
    "    plt_points = k3d.points(positions=x, point_size=0.2)\n",
    "    plot += plt_points\n",
    "    plt_points.shader='3d'\n",
    "    plot.display()"
   ]
  },
  {
   "cell_type": "markdown",
   "metadata": {},
   "source": [
    "# Fitness functions"
   ]
  },
  {
   "cell_type": "code",
   "execution_count": 19,
   "metadata": {},
   "outputs": [],
   "source": [
    "from numpy import sum, asarray_chkfinite, arange, prod, sqrt, cos, sin\n",
    "from functools import reduce\n",
    "def fitness(position, fr=4000):\n",
    "    if cfg.fitness == \"sincos\":\n",
    "        return sin(position[0]) + cos(position[1])\n",
    "    elif cfg.fitness == \"sphere\":\n",
    "        return reduce(lambda p,n: p + n**2, position)\n",
    "    elif cfg.fitness == \"rosen\":\n",
    "        return sum(100.0*(position[1:]-position[:-1]**2.0)**2.0 + (position[:-1]-1)**2.0)\n",
    "    elif cfg.fitness == \"griewank\":\n",
    "        n = len(position)\n",
    "        j = arange( 1., n+1 )\n",
    "        s = sum( position**2 )\n",
    "        p = prod( cos( position / sqrt(j) ))\n",
    "        return s/fr - p + 1\n",
    "    elif cfg.fitness == \"zakharov\":\n",
    "        x = np.asarray_chkfinite(position)\n",
    "        n = len(x)\n",
    "        j = np.arange( 1., n+1 )\n",
    "        s2 = sum( j * x ) / 2\n",
    "        return sum( x**2 ) + s2**2 + s2**4\n",
    "    elif cfg.fitness == \"f2\":\n",
    "        s = 0\n",
    "        for x in range(1, len(position)):\n",
    "            s = s + (position[x]-x)**2\n",
    "        return s"
   ]
  },
  {
   "cell_type": "markdown",
   "metadata": {},
   "source": [
    "# App"
   ]
  },
  {
   "cell_type": "code",
   "execution_count": 20,
   "metadata": {},
   "outputs": [],
   "source": [
    "import numpy as np\n",
    "np.set_printoptions(precision=2, floatmode='fixed', sign=' ', )\n",
    "class App():\n",
    "    def run(self):\n",
    "        if(cfg.algorithmType == \"pso\"):\n",
    "            search_space = Space(1)\n",
    "            particles_vector = [Particle() for _ in range(cfg.n_particles)]\n",
    "            search_space.particles = particles_vector\n",
    "            plot_particles(search_space.particles)\n",
    "            iteration = 0\n",
    "            while iteration < cfg.iterations:\n",
    "                search_space.set_pbest()\n",
    "                search_space.set_gbest()\n",
    "\n",
    "                if abs(search_space.gbest_value - search_space.target) <= cfg.target_error:\n",
    "                    break\n",
    "\n",
    "                search_space.move_particles()\n",
    "                iteration += 1\n",
    "            print(\"The best solution is: \", (search_space.gbest_position, fitness(search_space.gbest_position)), \" in n_iterations: \", iteration)\n",
    "            plot_particles(search_space.particles)\n",
    "            # search_space.print_particles()\n",
    "        elif(cfg.algorithmType == \"ga\"):\n",
    "            genetic()\n",
    "\n",
    "        else:\n",
    "            print(f\"Unknown algorithm type: {cfg.algorithmType}\")"
   ]
  },
  {
   "cell_type": "code",
   "execution_count": 21,
   "metadata": {},
   "outputs": [
    {
     "data": {
      "application/vnd.jupyter.widget-view+json": {
       "model_id": "6355e5acc2024e2e9ca8fc1009a05f57",
       "version_major": 2,
       "version_minor": 0
      },
      "text/plain": [
       "Output()"
      ]
     },
     "metadata": {},
     "output_type": "display_data"
    },
    {
     "name": "stdout",
     "output_type": "stream",
     "text": [
      "The best solution is:  [-1.00e+01  1.66e-09]  in n_iterations:  200\n"
     ]
    },
    {
     "data": {
      "application/vnd.jupyter.widget-view+json": {
       "model_id": "6de23d9fbdfd412b8c47838157720f4d",
       "version_major": 2,
       "version_minor": 0
      },
      "text/plain": [
       "Output()"
      ]
     },
     "metadata": {},
     "output_type": "display_data"
    }
   ],
   "source": [
    "json_config =\"\"\"\n",
    "{\n",
    "    \"algorithmType\": \"pso\",\n",
    "    \"fitness\": \"sphere\",\n",
    "    \"w\": 0.5,\n",
    "    \"c1\": 0.8,\n",
    "    \"c2\": 0.9,\n",
    "    \"target_error\": 1e-8,\n",
    "    \"iterations\": 200,\n",
    "    \"n_particles\": 300,\n",
    "    \"arguments_dimensions\": 2,\n",
    "    \"d_min\": -10,\n",
    "    \"d_max\": 10\n",
    "}\"\"\"\n",
    "cfg = json.loads(json_config, object_hook = as_config)\n",
    "App().run()"
   ]
  },
  {
   "cell_type": "code",
   "execution_count": 26,
   "metadata": {
    "scrolled": true
   },
   "outputs": [
    {
     "data": {
      "application/vnd.jupyter.widget-view+json": {
       "model_id": "d425b2d06d7c41cfb2908ea5b51ef911",
       "version_major": 2,
       "version_minor": 0
      },
      "text/plain": [
       "Output()"
      ]
     },
     "metadata": {},
     "output_type": "display_data"
    },
    {
     "name": "stdout",
     "output_type": "stream",
     "text": [
      "The best solution is:  [-14.14 -15.71]  in n_iterations:  200\n"
     ]
    },
    {
     "data": {
      "application/vnd.jupyter.widget-view+json": {
       "model_id": "f19345b37f3d41559f262de5845770d8",
       "version_major": 2,
       "version_minor": 0
      },
      "text/plain": [
       "Output()"
      ]
     },
     "metadata": {},
     "output_type": "display_data"
    }
   ],
   "source": [
    "json_config =\"\"\"\n",
    "{\n",
    "    \"algorithmType\": \"pso\",\n",
    "    \"fitness\": \"sincos\",\n",
    "    \"w\": 0.5,\n",
    "    \"c1\": 0.8,\n",
    "    \"c2\": 0.9,\n",
    "    \"target_error\": 1e-8,\n",
    "    \"iterations\": 200,\n",
    "    \"n_particles\": 800,\n",
    "    \"arguments_dimensions\": 2,\n",
    "    \"d_min\": -20,\n",
    "    \"d_max\": 20\n",
    "}\"\"\"\n",
    "cfg = json.loads(json_config, object_hook = as_config)\n",
    "App().run()"
   ]
  },
  {
   "cell_type": "code",
   "execution_count": 23,
   "metadata": {},
   "outputs": [
    {
     "data": {
      "application/vnd.jupyter.widget-view+json": {
       "model_id": "f4dae59a4d1442dcab77a0eb06b6ac62",
       "version_major": 2,
       "version_minor": 0
      },
      "text/plain": [
       "Output()"
      ]
     },
     "metadata": {},
     "output_type": "display_data"
    },
    {
     "name": "stdout",
     "output_type": "stream",
     "text": [
      "The best solution is:  [-6.02e-34 -1.15e-34]  in n_iterations:  200\n"
     ]
    },
    {
     "data": {
      "application/vnd.jupyter.widget-view+json": {
       "model_id": "77b3390d269b4191b03ad12299635fe7",
       "version_major": 2,
       "version_minor": 0
      },
      "text/plain": [
       "Output()"
      ]
     },
     "metadata": {},
     "output_type": "display_data"
    }
   ],
   "source": [
    "json_config =\"\"\"\n",
    "{\n",
    "    \"algorithmType\": \"pso\",\n",
    "    \"fitness\": \"zakharov\",\n",
    "    \"w\": 0.5,\n",
    "    \"c1\": 0.8,\n",
    "    \"c2\": 0.4,\n",
    "    \"target_error\": 1e-8,\n",
    "    \"iterations\": 200,\n",
    "    \"n_particles\": 400,\n",
    "    \"arguments_dimensions\": 2,\n",
    "    \"d_min\": -10,\n",
    "    \"d_max\": 10\n",
    "}\"\"\"\n",
    "cfg = json.loads(json_config, object_hook = as_config)\n",
    "App().run()"
   ]
  },
  {
   "cell_type": "code",
   "execution_count": null,
   "metadata": {},
   "outputs": [],
   "source": []
  },
  {
   "cell_type": "code",
   "execution_count": null,
   "metadata": {},
   "outputs": [],
   "source": []
  }
 ],
 "metadata": {
  "kernelspec": {
   "display_name": "Python 3",
   "language": "python",
   "name": "python3"
  },
  "language_info": {
   "codemirror_mode": {
    "name": "ipython",
    "version": 3
   },
   "file_extension": ".py",
   "mimetype": "text/x-python",
   "name": "python",
   "nbconvert_exporter": "python",
   "pygments_lexer": "ipython3",
   "version": "3.7.6"
  }
 },
 "nbformat": 4,
 "nbformat_minor": 4
}
